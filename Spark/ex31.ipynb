{
 "cells": [
  {
   "cell_type": "code",
   "execution_count": 1,
   "id": "conservative-expert",
   "metadata": {},
   "outputs": [],
   "source": [
    "inputPath = \"Spark/Exercises/Ex_31/log.txt\"\n",
    "outputPath = \"Spark/Exercises/Ex_31/res\""
   ]
  },
  {
   "cell_type": "code",
   "execution_count": 3,
   "id": "reduced-escape",
   "metadata": {},
   "outputs": [],
   "source": [
    "logRDD = sc.textFile(inputPath)"
   ]
  },
  {
   "cell_type": "code",
   "execution_count": 6,
   "id": "mathematical-equality",
   "metadata": {},
   "outputs": [],
   "source": [
    "googleRDD = logRDD.filter(lambda line:line.lower().find(\"www.google.com\")>=0)"
   ]
  },
  {
   "cell_type": "code",
   "execution_count": 7,
   "id": "norman-phenomenon",
   "metadata": {},
   "outputs": [],
   "source": [
    "IPsRDD = googleRDD.map(lambda line:line.split('-')[0])  # we could even concatenate filter and map, but in the end the systems always create an RDD for transformation"
   ]
  },
  {
   "cell_type": "code",
   "execution_count": 10,
   "id": "adjacent-jordan",
   "metadata": {},
   "outputs": [
    {
     "data": {
      "text/plain": [
       "['66.249.69.97 ', '66.249.69.97 ', '71.19.157.179 ', '56.249.69.97 ']"
      ]
     },
     "execution_count": 10,
     "metadata": {},
     "output_type": "execute_result"
    }
   ],
   "source": [
    "IPsRDD.collect() # there are duplicates! (collect is expensive, used here only for showing it - debugging purpose)"
   ]
  },
  {
   "cell_type": "code",
   "execution_count": 11,
   "id": "banned-monitoring",
   "metadata": {},
   "outputs": [],
   "source": [
    "distinctIPsRDD = IPsRDD.distinct()"
   ]
  },
  {
   "cell_type": "code",
   "execution_count": null,
   "id": "ambient-cargo",
   "metadata": {},
   "outputs": [],
   "source": [
    "distinctIPsRDD.saveAsTextFile(o)"
   ]
  }
 ],
 "metadata": {
  "kernelspec": {
   "display_name": "PySpark (Local)",
   "language": "python",
   "name": "pyspark_local"
  },
  "language_info": {
   "codemirror_mode": {
    "name": "ipython",
    "version": 3
   },
   "file_extension": ".py",
   "mimetype": "text/x-python",
   "name": "python",
   "nbconvert_exporter": "python",
   "pygments_lexer": "ipython3",
   "version": "3.7.9"
  }
 },
 "nbformat": 4,
 "nbformat_minor": 5
}
