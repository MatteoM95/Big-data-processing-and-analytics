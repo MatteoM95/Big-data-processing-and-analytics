{
 "cells": [
  {
   "cell_type": "code",
   "execution_count": 1,
   "id": "minute-diana",
   "metadata": {},
   "outputs": [],
   "source": [
    "vertexesPath = \"Spark/Exercises/Ex_52/vertexes.csv\"\n",
    "edgesPath = \"Spark/Exercises/Ex_52/edges.csv\"\n",
    "outputPath = \"Spark/Exercises/Ex_52/res\""
   ]
  },
  {
   "cell_type": "code",
   "execution_count": 2,
   "id": "cardiovascular-breathing",
   "metadata": {},
   "outputs": [],
   "source": [
    "from pyspark.sql import SparkSession\n",
    "from graphframes import GraphFrame\n",
    "\n",
    "spark = SparkSession.builder.getOrCreate()"
   ]
  },
  {
   "cell_type": "code",
   "execution_count": 3,
   "id": "protected-clause",
   "metadata": {},
   "outputs": [
    {
     "name": "stdout",
     "output_type": "stream",
     "text": [
      "+---+-----+---+\n",
      "| id| name|age|\n",
      "+---+-----+---+\n",
      "| u1|Alice| 34|\n",
      "| u2|  Bob| 36|\n",
      "| u3| John| 30|\n",
      "| u4|David| 29|\n",
      "| u5| Paul| 32|\n",
      "| u6| Adel| 36|\n",
      "| u7| Eddy| 60|\n",
      "+---+-----+---+\n",
      "\n"
     ]
    }
   ],
   "source": [
    "vertexesDF = spark.read.load(vertexesPath, format=\"csv\", header=True, inferSchema=True)\n",
    "vertexesDF.show()"
   ]
  },
  {
   "cell_type": "code",
   "execution_count": 4,
   "id": "gorgeous-consistency",
   "metadata": {},
   "outputs": [
    {
     "name": "stdout",
     "output_type": "stream",
     "text": [
      "+---+---+--------+\n",
      "|src|dst|linktype|\n",
      "+---+---+--------+\n",
      "| u1| u2|  friend|\n",
      "| u1| u4|  friend|\n",
      "| u1| u5|  friend|\n",
      "| u2| u1|  friend|\n",
      "| u2| u3|  follow|\n",
      "| u3| u2|  follow|\n",
      "| u4| u1|  friend|\n",
      "| u4| u5|  friend|\n",
      "| u5| u1|  friend|\n",
      "| u5| u4|  friend|\n",
      "| u5| u6|  follow|\n",
      "| u6| u3|  follow|\n",
      "| u7| u6|  follow|\n",
      "+---+---+--------+\n",
      "\n"
     ]
    }
   ],
   "source": [
    "edgesDF = spark.read.load(edgesPath, format=\"csv\", header=True, inferSchema=True)\n",
    "edgesDF.show()"
   ]
  },
  {
   "cell_type": "code",
   "execution_count": 11,
   "id": "liked-japan",
   "metadata": {},
   "outputs": [
    {
     "name": "stdout",
     "output_type": "stream",
     "text": [
      "+---+---+--------+\n",
      "|src|dst|linktype|\n",
      "+---+---+--------+\n",
      "| u2| u3|  follow|\n",
      "| u3| u2|  follow|\n",
      "| u5| u6|  follow|\n",
      "| u6| u3|  follow|\n",
      "| u7| u6|  follow|\n",
      "+---+---+--------+\n",
      "\n"
     ]
    }
   ],
   "source": [
    "filteredEdgesDF = edgesDF.filter(\"linktype == 'follow'\")\n",
    "filteredEdgesDF.show()"
   ]
  },
  {
   "cell_type": "code",
   "execution_count": 12,
   "id": "selective-legislation",
   "metadata": {},
   "outputs": [
    {
     "data": {
      "text/plain": [
       "GraphFrame(v:[id: string, name: string ... 1 more field], e:[src: string, dst: string ... 1 more field])"
      ]
     },
     "execution_count": 12,
     "metadata": {},
     "output_type": "execute_result"
    }
   ],
   "source": [
    "g = GraphFrame(vertexesDF, filteredEdgesDF)\n",
    "g"
   ]
  },
  {
   "cell_type": "code",
   "execution_count": 15,
   "id": "pressed-despite",
   "metadata": {},
   "outputs": [
    {
     "name": "stdout",
     "output_type": "stream",
     "text": [
      "+---+------------+\n",
      "| id|numFollowers|\n",
      "+---+------------+\n",
      "| u3|           2|\n",
      "| u6|           2|\n",
      "| u2|           1|\n",
      "+---+------------+\n",
      "\n"
     ]
    }
   ],
   "source": [
    "followersCountDF = g.inDegrees.withColumnRenamed(\"inDegree\",\"numFollowers\")\n",
    "followersCountDF.show()"
   ]
  },
  {
   "cell_type": "code",
   "execution_count": null,
   "id": "colonial-shoulder",
   "metadata": {},
   "outputs": [],
   "source": []
  }
 ],
 "metadata": {
  "kernelspec": {
   "display_name": "GraphFrames (Yarn)",
   "language": "python",
   "name": "graphframe_yarn"
  },
  "language_info": {
   "codemirror_mode": {
    "name": "ipython",
    "version": 3
   },
   "file_extension": ".py",
   "mimetype": "text/x-python",
   "name": "python",
   "nbconvert_exporter": "python",
   "pygments_lexer": "ipython3",
   "version": "3.7.9"
  }
 },
 "nbformat": 4,
 "nbformat_minor": 5
}
