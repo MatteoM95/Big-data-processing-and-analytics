{
 "cells": [
  {
   "cell_type": "code",
   "execution_count": 1,
   "id": "unlike-master",
   "metadata": {},
   "outputs": [],
   "source": [
    "inputPath = \"Spark/Exercises/Ex_38/sensors.txt\"\n",
    "outputPath = \"Spark/Exercises/Ex_38/res\""
   ]
  },
  {
   "cell_type": "code",
   "execution_count": 2,
   "id": "deluxe-layer",
   "metadata": {},
   "outputs": [],
   "source": [
    "SensorsRDD = sc.textFile(inputPath)"
   ]
  },
  {
   "cell_type": "code",
   "execution_count": 3,
   "id": "religious-impossible",
   "metadata": {},
   "outputs": [],
   "source": [
    "threshold = 50\n",
    "Sensors_Greater_TH_RDD = SensorsRDD.filter(lambda line: float(line.split(',')[2]) > threshold)"
   ]
  },
  {
   "cell_type": "code",
   "execution_count": 4,
   "id": "helpful-measure",
   "metadata": {},
   "outputs": [
    {
     "data": {
      "text/plain": [
       "['s1,2016-01-02,60.2', 's1,2016-01-03,55.5', 's2,2016-01-03,52.5']"
      ]
     },
     "execution_count": 4,
     "metadata": {},
     "output_type": "execute_result"
    }
   ],
   "source": [
    "# Sensors_Greater_TH_RDD.collect()"
   ]
  },
  {
   "cell_type": "code",
   "execution_count": 5,
   "id": "russian-nightmare",
   "metadata": {},
   "outputs": [],
   "source": [
    "Sensors_filtered_RDD = Sensors_Greater_TH_RDD.map(lambda x: (x.split(',')[0] , 1))"
   ]
  },
  {
   "cell_type": "code",
   "execution_count": 6,
   "id": "spoken-association",
   "metadata": {},
   "outputs": [
    {
     "data": {
      "text/plain": [
       "[('s1', 1), ('s1', 1), ('s2', 1)]"
      ]
     },
     "execution_count": 6,
     "metadata": {},
     "output_type": "execute_result"
    }
   ],
   "source": [
    "# Sensors_filtered_RDD.collect()"
   ]
  },
  {
   "cell_type": "code",
   "execution_count": 7,
   "id": "separated-border",
   "metadata": {},
   "outputs": [],
   "source": [
    "Sensors_Count_RDD = Sensors_filtered_RDD.reduceByKey(lambda v1,v2 : v1+v2)"
   ]
  },
  {
   "cell_type": "code",
   "execution_count": 8,
   "id": "comic-automation",
   "metadata": {},
   "outputs": [
    {
     "data": {
      "text/plain": [
       "[('s1', 2), ('s2', 1)]"
      ]
     },
     "execution_count": 8,
     "metadata": {},
     "output_type": "execute_result"
    }
   ],
   "source": [
    "# Sensors_Count_RDD.collect()"
   ]
  },
  {
   "cell_type": "code",
   "execution_count": null,
   "id": "beneficial-theta",
   "metadata": {},
   "outputs": [],
   "source": [
    "Final_RDD = Sensors_Count_RDD.filter(lambda x)"
   ]
  }
 ],
 "metadata": {
  "kernelspec": {
   "display_name": "PySpark (Local)",
   "language": "python",
   "name": "pyspark_local"
  },
  "language_info": {
   "codemirror_mode": {
    "name": "ipython",
    "version": 3
   },
   "file_extension": ".py",
   "mimetype": "text/x-python",
   "name": "python",
   "nbconvert_exporter": "python",
   "pygments_lexer": "ipython3",
   "version": "3.7.9"
  }
 },
 "nbformat": 4,
 "nbformat_minor": 5
}
