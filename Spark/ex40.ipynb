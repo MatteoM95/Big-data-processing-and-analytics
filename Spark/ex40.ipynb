{
 "cells": [
  {
   "cell_type": "code",
   "execution_count": 1,
   "id": "middle-ancient",
   "metadata": {},
   "outputs": [],
   "source": [
    "inputPath = \"Spark/Exercises/Ex_40/sensors.txt\"\n",
    "outputPath = \"Spark/Exercises/Ex_40/res\""
   ]
  },
  {
   "cell_type": "code",
   "execution_count": 12,
   "id": "stylish-board",
   "metadata": {},
   "outputs": [
    {
     "data": {
      "text/plain": [
       "['s1,2016-01-01,20.5',\n",
       " 's2,2016-01-01,30.1',\n",
       " 's1,2016-01-02,60.2',\n",
       " 's2,2016-01-02,20.4',\n",
       " 's1,2016-01-03,55.5',\n",
       " 's2,2016-01-03,52.5']"
      ]
     },
     "execution_count": 12,
     "metadata": {},
     "output_type": "execute_result"
    }
   ],
   "source": [
    "SensorsRDD = sc.textFile(inputPath)\n",
    "SensorsRDD.collect()"
   ]
  },
  {
   "cell_type": "code",
   "execution_count": 13,
   "id": "reliable-cyprus",
   "metadata": {},
   "outputs": [],
   "source": [
    "threshold = 50\n",
    "CriticalLines_RDD = SensorsRDD.filter(lambda line : float(line.split(',')[2]) > threshold)"
   ]
  },
  {
   "cell_type": "code",
   "execution_count": 15,
   "id": "chubby-arrival",
   "metadata": {},
   "outputs": [
    {
     "data": {
      "text/plain": [
       "[('s1', 1), ('s1', 1), ('s2', 1)]"
      ]
     },
     "execution_count": 15,
     "metadata": {},
     "output_type": "execute_result"
    }
   ],
   "source": [
    "Sensors_Map_RDD = CriticalLines_RDD.map(lambda x : (x.split(',')[0] , 1))\n",
    "# Sensors_Map_RDD.collect()"
   ]
  },
  {
   "cell_type": "code",
   "execution_count": 16,
   "id": "continental-eugene",
   "metadata": {},
   "outputs": [
    {
     "data": {
      "text/plain": [
       "[('s1', 2), ('s2', 1)]"
      ]
     },
     "execution_count": 16,
     "metadata": {},
     "output_type": "execute_result"
    }
   ],
   "source": [
    "Sensors_Count_RDD = Sensors_Map_RDD.reduceByKey(lambda v1,v2 : v1+v2)\n",
    "# Sensors_Count_RDD.collect()"
   ]
  },
  {
   "cell_type": "code",
   "execution_count": 22,
   "id": "welcome-psychology",
   "metadata": {},
   "outputs": [
    {
     "data": {
      "text/plain": [
       "[(2, 's1'), (1, 's2')]"
      ]
     },
     "execution_count": 22,
     "metadata": {},
     "output_type": "execute_result"
    }
   ],
   "source": [
    "FinalRDD = Sensors_Count_RDD.map(lambda x : (x[1],x[0])).sortByKey(False)\n",
    "# FinalRDD.collect()"
   ]
  },
  {
   "cell_type": "code",
   "execution_count": 23,
   "id": "sublime-storage",
   "metadata": {},
   "outputs": [],
   "source": [
    "FinalRDD.saveAsTextFile(outputPath)"
   ]
  }
 ],
 "metadata": {
  "kernelspec": {
   "display_name": "PySpark (Local)",
   "language": "python",
   "name": "pyspark_local"
  },
  "language_info": {
   "codemirror_mode": {
    "name": "ipython",
    "version": 3
   },
   "file_extension": ".py",
   "mimetype": "text/x-python",
   "name": "python",
   "nbconvert_exporter": "python",
   "pygments_lexer": "ipython3",
   "version": "3.7.9"
  }
 },
 "nbformat": 4,
 "nbformat_minor": 5
}
