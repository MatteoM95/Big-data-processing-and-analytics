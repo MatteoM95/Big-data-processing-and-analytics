{
 "cells": [
  {
   "cell_type": "code",
   "execution_count": 1,
   "id": "apparent-outline",
   "metadata": {},
   "outputs": [
    {
     "name": "stdout",
     "output_type": "stream",
     "text": [
      "+-----+---+------+\n",
      "| name|age|gender|\n",
      "+-----+---+------+\n",
      "| Paul| 40|  male|\n",
      "| Paul| 38|  male|\n",
      "|David| 15|  male|\n",
      "|Susan| 40|female|\n",
      "|Susan| 34|female|\n",
      "+-----+---+------+\n",
      "\n"
     ]
    }
   ],
   "source": [
    "from pyspark.sql import SparkSession\n",
    "\n",
    "spark = SparkSession.builder.getOrCreate()\n",
    "\n",
    "inputPath = \"Spark/Exercises/Ex_48/persons.csv\"\n",
    "outputPath = \"Spark/Exercises/Ex_48/resSQL\"\n",
    "\n",
    "df = spark.read.load(inputPath, format=\"csv\", header=True, inferSchema=True)\n",
    "df.show()"
   ]
  },
  {
   "cell_type": "code",
   "execution_count": 2,
   "id": "worst-carter",
   "metadata": {},
   "outputs": [],
   "source": [
    "df.createOrReplaceTempView(\"persons\")"
   ]
  },
  {
   "cell_type": "code",
   "execution_count": 6,
   "id": "lasting-ethics",
   "metadata": {},
   "outputs": [
    {
     "name": "stdout",
     "output_type": "stream",
     "text": [
      "+-----+------+\n",
      "| name|avgAge|\n",
      "+-----+------+\n",
      "|Susan|  37.0|\n",
      "| Paul|  39.0|\n",
      "+-----+------+\n",
      "\n"
     ]
    }
   ],
   "source": [
    "df_final = spark.sql(\"\"\"SELECT name,AVG(age) AS avgAge\n",
    "                        FROM persons\n",
    "                        GROUP BY name\n",
    "                        HAVING COUNT(*) >= 2 \"\"\")\n",
    "df_final.show()"
   ]
  },
  {
   "cell_type": "code",
   "execution_count": 7,
   "id": "atmospheric-campbell",
   "metadata": {},
   "outputs": [],
   "source": [
    "df_final.write.csv(outputPath)"
   ]
  }
 ],
 "metadata": {
  "kernelspec": {
   "display_name": "PySpark (Local)",
   "language": "python",
   "name": "pyspark_local"
  },
  "language_info": {
   "codemirror_mode": {
    "name": "ipython",
    "version": 3
   },
   "file_extension": ".py",
   "mimetype": "text/x-python",
   "name": "python",
   "nbconvert_exporter": "python",
   "pygments_lexer": "ipython3",
   "version": "3.7.9"
  }
 },
 "nbformat": 4,
 "nbformat_minor": 5
}
