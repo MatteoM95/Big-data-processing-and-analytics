{
 "cells": [
  {
   "cell_type": "code",
   "execution_count": 1,
   "id": "speaking-modeling",
   "metadata": {},
   "outputs": [],
   "source": [
    "inputPath = \"Spark/Exercises/Ex_41/sensors.txt\"\n",
    "outputPath = \"Spark/Exercises/Ex_41/res\""
   ]
  },
  {
   "cell_type": "code",
   "execution_count": 2,
   "id": "beginning-glory",
   "metadata": {},
   "outputs": [],
   "source": [
    "CriticalLinesRDD = sc.textFile(inputPath).filter(lambda line : float(line.split(',')[2]) > 50)"
   ]
  },
  {
   "cell_type": "code",
   "execution_count": 3,
   "id": "pharmaceutical-customs",
   "metadata": {},
   "outputs": [
    {
     "data": {
      "text/plain": [
       "[('s1', 1), ('s1', 1), ('s2', 1)]"
      ]
     },
     "execution_count": 3,
     "metadata": {},
     "output_type": "execute_result"
    }
   ],
   "source": [
    "CriticalSensorsMap_RDD = CriticalLinesRDD.map(lambda line : (line.split(',')[0] , 1))\n",
    "# CriticalSensorsMap_RDD.collect()"
   ]
  },
  {
   "cell_type": "code",
   "execution_count": 4,
   "id": "isolated-space",
   "metadata": {},
   "outputs": [],
   "source": [
    "CriticalDaysPerSensor_RDD = CriticalSensorsMap_RDD.reduceByKey(lambda v1,v2 : v1+v2)"
   ]
  },
  {
   "cell_type": "code",
   "execution_count": 5,
   "id": "posted-secretariat",
   "metadata": {},
   "outputs": [
    {
     "data": {
      "text/plain": [
       "[('s1', 2), ('s2', 1)]"
      ]
     },
     "execution_count": 5,
     "metadata": {},
     "output_type": "execute_result"
    }
   ],
   "source": [
    "SortedSensors_RDD = CriticalDaysPerSensor_RDD.sortBy(lambda x : x[1] , False)  # sort by value and in descending order\n",
    "# SortedSensors_RDD.collect()"
   ]
  },
  {
   "cell_type": "code",
   "execution_count": 11,
   "id": "creative-department",
   "metadata": {},
   "outputs": [
    {
     "name": "stdout",
     "output_type": "stream",
     "text": [
      "[('s1', 2)]\n"
     ]
    }
   ],
   "source": [
    "k = 1\n",
    "Top_k = SortedSensors_RDD.take(k)\n",
    "print(Top_k)"
   ]
  },
  {
   "cell_type": "code",
   "execution_count": 13,
   "id": "governing-refrigerator",
   "metadata": {},
   "outputs": [
    {
     "data": {
      "text/plain": [
       "[('s1', 2)]"
      ]
     },
     "execution_count": 13,
     "metadata": {},
     "output_type": "execute_result"
    }
   ],
   "source": [
    "TopKSensors_RDD = sc.parallelize(Top_k)\n",
    "# TopKSensors_RDD.collect()"
   ]
  },
  {
   "cell_type": "code",
   "execution_count": 14,
   "id": "macro-melissa",
   "metadata": {},
   "outputs": [],
   "source": [
    "TopKSensors_RDD.saveAsTextFile(outputPath)"
   ]
  }
 ],
 "metadata": {
  "kernelspec": {
   "display_name": "PySpark (Local)",
   "language": "python",
   "name": "pyspark_local"
  },
  "language_info": {
   "codemirror_mode": {
    "name": "ipython",
    "version": 3
   },
   "file_extension": ".py",
   "mimetype": "text/x-python",
   "name": "python",
   "nbconvert_exporter": "python",
   "pygments_lexer": "ipython3",
   "version": "3.7.9"
  }
 },
 "nbformat": 4,
 "nbformat_minor": 5
}
