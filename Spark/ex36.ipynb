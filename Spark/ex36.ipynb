{
 "cells": [
  {
   "cell_type": "code",
   "execution_count": 1,
   "id": "impaired-leonard",
   "metadata": {},
   "outputs": [],
   "source": [
    "inputPath = \"Spark/Exercises/Ex_36/sensors.txt\""
   ]
  },
  {
   "cell_type": "code",
   "execution_count": 2,
   "id": "aquatic-permit",
   "metadata": {},
   "outputs": [],
   "source": [
    "sensorsRDD = sc.textFile(inputPath)"
   ]
  },
  {
   "cell_type": "code",
   "execution_count": 8,
   "id": "abstract-therapist",
   "metadata": {},
   "outputs": [],
   "source": [
    "PM10_values_RDD = sensorsRDD.map(lambda x : float(x.split(',')[2]))"
   ]
  },
  {
   "cell_type": "markdown",
   "id": "liquid-opinion",
   "metadata": {},
   "source": [
    "I sum the PM10 values and then divide this sum by the count of total lines, but doing so read 2 times the input data (2 actions) -> not very well"
   ]
  },
  {
   "cell_type": "code",
   "execution_count": 10,
   "id": "mineral-contrast",
   "metadata": {},
   "outputs": [
    {
     "data": {
      "text/plain": [
       "239.20000000000002"
      ]
     },
     "execution_count": 10,
     "metadata": {},
     "output_type": "execute_result"
    }
   ],
   "source": [
    "# sum of the PM10 values, stored in a python variable\n",
    "sumPM10values = PM10_values_RDD.reduce(lambda value1,value2 : value1 + value2)\n",
    "sumPM10values"
   ]
  },
  {
   "cell_type": "code",
   "execution_count": 12,
   "id": "indirect-monster",
   "metadata": {},
   "outputs": [
    {
     "data": {
      "text/plain": [
       "6"
      ]
     },
     "execution_count": 12,
     "metadata": {},
     "output_type": "execute_result"
    }
   ],
   "source": [
    "numLines = PM10_values_RDD.count()\n",
    "numLines"
   ]
  },
  {
   "cell_type": "code",
   "execution_count": 13,
   "id": "imported-nudist",
   "metadata": {},
   "outputs": [
    {
     "name": "stdout",
     "output_type": "stream",
     "text": [
      "Average PM10 value: 39.86666666666667\n"
     ]
    }
   ],
   "source": [
    "print(f\"Average PM10 value: {sumPM10values / numLines}\")"
   ]
  },
  {
   "cell_type": "markdown",
   "id": "ahead-arizona",
   "metadata": {},
   "source": [
    "Solution which doesn't use 2 actions:"
   ]
  },
  {
   "cell_type": "code",
   "execution_count": 15,
   "id": "maritime-complement",
   "metadata": {},
   "outputs": [
    {
     "data": {
      "text/plain": [
       "[(20.5, 1), (30.1, 1), (60.2, 1), (20.4, 1), (55.5, 1), (52.5, 1)]"
      ]
     },
     "execution_count": 15,
     "metadata": {},
     "output_type": "execute_result"
    }
   ],
   "source": [
    "PM10_values_RDD = sensorsRDD.map(lambda x : (float(x.split(',')[2]) , 1))\n",
    "PM10_values_RDD.collect() # only for debug purposes"
   ]
  },
  {
   "cell_type": "code",
   "execution_count": 16,
   "id": "compatible-destiny",
   "metadata": {},
   "outputs": [
    {
     "data": {
      "text/plain": [
       "(239.20000000000002, 6)"
      ]
     },
     "execution_count": 16,
     "metadata": {},
     "output_type": "execute_result"
    }
   ],
   "source": [
    "sumPM10ValuesCountLines = PM10_values_RDD.reduce(lambda value1,value2 : (value1[0]+value2[0] , value1[1]+value2[1]))\n",
    "sumPM10ValuesCountLines"
   ]
  },
  {
   "cell_type": "code",
   "execution_count": 17,
   "id": "medieval-daily",
   "metadata": {},
   "outputs": [
    {
     "name": "stdout",
     "output_type": "stream",
     "text": [
      "Average PM10 value: 39.86666666666667\n"
     ]
    }
   ],
   "source": [
    "print(f\"Average PM10 value: {sumPM10ValuesCountLines[0] / sumPM10ValuesCountLines[1]}\")"
   ]
  },
  {
   "cell_type": "markdown",
   "id": "following-papua",
   "metadata": {},
   "source": [
    "Third solution, based on aggregate (more complex to understand, but same complexity of map+reduce)"
   ]
  },
  {
   "cell_type": "code",
   "execution_count": 19,
   "id": "exclusive-hardware",
   "metadata": {},
   "outputs": [
    {
     "data": {
      "text/plain": [
       "(239.20000000000002, 6)"
      ]
     },
     "execution_count": 19,
     "metadata": {},
     "output_type": "execute_result"
    }
   ],
   "source": [
    "sumPM10ValuesCountLines = sensorsRDD.aggregate((0,0) , \\\n",
    "                                               lambda intermediateResult, PM10Reading : (intermediateResult[0] + float(PM10Reading.split(',')[2]) , intermediateResult[1] + 1),\\\n",
    "                                               lambda intermR1, intermR2: (intermR1[0] + intermR2[0] , intermR1[1] + intermR2[1]))\n",
    "sumPM10ValuesCountLines"
   ]
  },
  {
   "cell_type": "code",
   "execution_count": 20,
   "id": "outstanding-residence",
   "metadata": {},
   "outputs": [
    {
     "name": "stdout",
     "output_type": "stream",
     "text": [
      "Average PM10 value: 39.86666666666667\n"
     ]
    }
   ],
   "source": [
    "print(f\"Average PM10 value: {sumPM10ValuesCountLines[0] / sumPM10ValuesCountLines[1]}\")"
   ]
  }
 ],
 "metadata": {
  "kernelspec": {
   "display_name": "PySpark (Local)",
   "language": "python",
   "name": "pyspark_local"
  },
  "language_info": {
   "codemirror_mode": {
    "name": "ipython",
    "version": 3
   },
   "file_extension": ".py",
   "mimetype": "text/x-python",
   "name": "python",
   "nbconvert_exporter": "python",
   "pygments_lexer": "ipython3",
   "version": "3.7.9"
  }
 },
 "nbformat": 4,
 "nbformat_minor": 5
}
