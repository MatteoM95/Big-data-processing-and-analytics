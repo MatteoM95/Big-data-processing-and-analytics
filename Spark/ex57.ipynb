{
 "cells": [
  {
   "cell_type": "code",
   "execution_count": 2,
   "id": "successful-appendix",
   "metadata": {},
   "outputs": [],
   "source": [
    "from pyspark.sql import SparkSession\n",
    "from graphframes import GraphFrame\n",
    "\n",
    "spark = SparkSession.builder.getOrCreate()"
   ]
  },
  {
   "cell_type": "code",
   "execution_count": 3,
   "id": "absolute-abuse",
   "metadata": {},
   "outputs": [],
   "source": [
    "vertexesPath = \"Spark/Exercises/Ex_57/vertexes.csv\"\n",
    "edgesPath = \"Spark/Exercises/Ex_57/edges.csv\"\n",
    "outputPath = \"Spark/Exercises/Ex_57/res\""
   ]
  },
  {
   "cell_type": "code",
   "execution_count": 4,
   "id": "voluntary-music",
   "metadata": {},
   "outputs": [],
   "source": [
    "vertexesDF = spark.read.load(vertexesPath, format=\"csv\", header=True, inferSchema=True)\n",
    "edgesDF = spark.read.load(edgesPath, format=\"csv\", header=True, inferSchema=True)"
   ]
  },
  {
   "cell_type": "code",
   "execution_count": 5,
   "id": "frequent-secretariat",
   "metadata": {},
   "outputs": [],
   "source": [
    "g = GraphFrame(vertexesDF, edgesDF)"
   ]
  },
  {
   "cell_type": "code",
   "execution_count": 8,
   "id": "numerous-memorabilia",
   "metadata": {},
   "outputs": [
    {
     "name": "stdout",
     "output_type": "stream",
     "text": [
      "+---+-----+---+---------+\n",
      "| id| name|age|distances|\n",
      "+---+-----+---+---------+\n",
      "| u6| Adel| 36|[u1 -> 3]|\n",
      "| u3| John| 30|[u1 -> 2]|\n",
      "| u2|  Bob| 36|[u1 -> 1]|\n",
      "| u4|David| 29|[u1 -> 1]|\n",
      "| u5| Paul| 32|[u1 -> 1]|\n",
      "| u1|Alice| 34|[u1 -> 0]|\n",
      "| u7| Eddy| 60|       []|\n",
      "+---+-----+---+---------+\n",
      "\n"
     ]
    }
   ],
   "source": [
    "shortestPathsDF = g.shortestPaths([\"u1\"])\n",
    "shortestPathsDF.show()"
   ]
  },
  {
   "cell_type": "code",
   "execution_count": 9,
   "id": "behavioral-twelve",
   "metadata": {},
   "outputs": [
    {
     "name": "stdout",
     "output_type": "stream",
     "text": [
      "root\n",
      " |-- id: string (nullable = true)\n",
      " |-- name: string (nullable = true)\n",
      " |-- age: integer (nullable = true)\n",
      " |-- distances: map (nullable = true)\n",
      " |    |-- key: string\n",
      " |    |-- value: integer (valueContainsNull = false)\n",
      "\n"
     ]
    }
   ],
   "source": [
    "shortestPathsDF.printSchema()"
   ]
  },
  {
   "cell_type": "code",
   "execution_count": 15,
   "id": "dependent-atlanta",
   "metadata": {},
   "outputs": [
    {
     "name": "stdout",
     "output_type": "stream",
     "text": [
      "+---+-----+---+---------+\n",
      "| id| name|age|distances|\n",
      "+---+-----+---+---------+\n",
      "| u3| John| 30|[u1 -> 2]|\n",
      "| u2|  Bob| 36|[u1 -> 1]|\n",
      "| u4|David| 29|[u1 -> 1]|\n",
      "| u5| Paul| 32|[u1 -> 1]|\n",
      "+---+-----+---+---------+\n",
      "\n"
     ]
    }
   ],
   "source": [
    "acceptableShortestPathsU1DF = shortestPathsDF.filter(\"id <> 'u1' and distances['u1'] <= 2\")\n",
    "acceptableShortestPathsU1DF.show()"
   ]
  },
  {
   "cell_type": "code",
   "execution_count": 16,
   "id": "global-drain",
   "metadata": {},
   "outputs": [
    {
     "name": "stdout",
     "output_type": "stream",
     "text": [
      "+-----+-------+\n",
      "| name|numHops|\n",
      "+-----+-------+\n",
      "| John|      2|\n",
      "|  Bob|      1|\n",
      "|David|      1|\n",
      "| Paul|      1|\n",
      "+-----+-------+\n",
      "\n"
     ]
    }
   ],
   "source": [
    "finalDF = acceptableShortestPathsU1DF.selectExpr(\"name\", \"distances['u1'] as numHops\")\n",
    "finalDF.show()"
   ]
  },
  {
   "cell_type": "code",
   "execution_count": 17,
   "id": "absolute-kuwait",
   "metadata": {},
   "outputs": [],
   "source": [
    "finalDF.write.csv(outputPath,header=True)"
   ]
  }
 ],
 "metadata": {
  "kernelspec": {
   "display_name": "GraphFrames (Yarn)",
   "language": "python",
   "name": "graphframe_yarn"
  },
  "language_info": {
   "codemirror_mode": {
    "name": "ipython",
    "version": 3
   },
   "file_extension": ".py",
   "mimetype": "text/x-python",
   "name": "python",
   "nbconvert_exporter": "python",
   "pygments_lexer": "ipython3",
   "version": "3.7.9"
  }
 },
 "nbformat": 4,
 "nbformat_minor": 5
}
