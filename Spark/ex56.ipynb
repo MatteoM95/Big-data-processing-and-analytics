{
 "cells": [
  {
   "cell_type": "code",
   "execution_count": 1,
   "id": "driven-november",
   "metadata": {},
   "outputs": [],
   "source": [
    "from pyspark.sql import SparkSession\n",
    "from graphframes import GraphFrame\n",
    "\n",
    "spark = SparkSession.builder.getOrCreate()\n",
    "\n",
    "vertexesPath = \"Spark/Exercises/Ex_56/vertexes.csv\"\n",
    "edgesPath = \"Spark/Exercises/Ex_56/edges.csv\"\n",
    "outputPath = \"Spark/Exercises/Ex_56/res\""
   ]
  },
  {
   "cell_type": "code",
   "execution_count": 2,
   "id": "varied-referral",
   "metadata": {},
   "outputs": [],
   "source": [
    "vertexesDF = spark.read.load(path=vertexesPath , format=\"csv\", header=True, inferSchema=True)\n",
    "edgesDF = spark.read.load(path=edgesPath , format=\"csv\", header=True, inferSchema=True)"
   ]
  },
  {
   "cell_type": "code",
   "execution_count": 3,
   "id": "broken-riverside",
   "metadata": {},
   "outputs": [],
   "source": [
    "filteredEdgesDF = edgesDF.filter(\"linktype == 'follow' or linktype == 'correlated'\")"
   ]
  },
  {
   "cell_type": "code",
   "execution_count": 4,
   "id": "interpreted-dispatch",
   "metadata": {},
   "outputs": [],
   "source": [
    "g = GraphFrame(vertexesDF,filteredEdgesDF)"
   ]
  },
  {
   "cell_type": "code",
   "execution_count": 8,
   "id": "initial-bench",
   "metadata": {},
   "outputs": [
    {
     "name": "stdout",
     "output_type": "stream",
     "text": [
      "+--------------------+--------------------+--------------------+--------------------+--------------------+\n",
      "|                  v1|                  e1|                  v2|                  e2|                  v3|\n",
      "+--------------------+--------------------+--------------------+--------------------+--------------------+\n",
      "|   [V1, user, Paolo]|    [V1, V3, follow]|   [V3, user, David]|    [V3, V4, follow]|[V4, topic, Big D...|\n",
      "|   [V1, user, Paolo]|    [V1, V3, follow]|   [V3, user, David]|    [V3, V2, follow]|    [V2, topic, SQL]|\n",
      "|   [V1, user, Paolo]|    [V1, V4, follow]|[V4, topic, Big D...|[V4, V2, correlated]|    [V2, topic, SQL]|\n",
      "|   [V3, user, David]|    [V3, V2, follow]|    [V2, topic, SQL]|[V2, V4, correlated]|[V4, topic, Big D...|\n",
      "|   [V3, user, David]|    [V3, V4, follow]|[V4, topic, Big D...|[V4, V2, correlated]|    [V2, topic, SQL]|\n",
      "|    [V2, topic, SQL]|[V2, V4, correlated]|[V4, topic, Big D...|[V4, V2, correlated]|    [V2, topic, SQL]|\n",
      "|[V4, topic, Big D...|[V4, V2, correlated]|    [V2, topic, SQL]|[V2, V4, correlated]|[V4, topic, Big D...|\n",
      "+--------------------+--------------------+--------------------+--------------------+--------------------+\n",
      "\n"
     ]
    }
   ],
   "source": [
    "chainDF = g.find(\"(v1)-[e1]->(v2) ; (v2)-[e2]->(v3)\")\n",
    "chainDF.show()"
   ]
  },
  {
   "cell_type": "code",
   "execution_count": 12,
   "id": "artistic-london",
   "metadata": {},
   "outputs": [
    {
     "name": "stdout",
     "output_type": "stream",
     "text": [
      "+-----------------+----------------+----------------+--------------------+--------------------+\n",
      "|               v1|              e1|              v2|                  e2|                  v3|\n",
      "+-----------------+----------------+----------------+--------------------+--------------------+\n",
      "|[V3, user, David]|[V3, V2, follow]|[V2, topic, SQL]|[V2, V4, correlated]|[V4, topic, Big D...|\n",
      "+-----------------+----------------+----------------+--------------------+--------------------+\n",
      "\n"
     ]
    }
   ],
   "source": [
    "filteredChainDF = chainDF.filter(\"\"\"v1.entityName == 'user' and e1.linktype == 'follow' and v2.entityName == 'topic' and e2.linktype == 'correlated' \n",
    "                                 and v3.entityName == 'topic' and v3.name == 'Big Data'\"\"\")\n",
    "filteredChainDF.show()"
   ]
  },
  {
   "cell_type": "code",
   "execution_count": 10,
   "id": "limiting-conflict",
   "metadata": {},
   "outputs": [
    {
     "name": "stdout",
     "output_type": "stream",
     "text": [
      "+--------+\n",
      "|username|\n",
      "+--------+\n",
      "|   David|\n",
      "+--------+\n",
      "\n"
     ]
    }
   ],
   "source": [
    "finalDF = filteredChainDF.selectExpr(\"v1.name as username\")\n",
    "finalDF.show()"
   ]
  },
  {
   "cell_type": "code",
   "execution_count": 11,
   "id": "suitable-privilege",
   "metadata": {},
   "outputs": [],
   "source": [
    "finalDF.write.csv(outputPath,header=True)"
   ]
  }
 ],
 "metadata": {
  "kernelspec": {
   "display_name": "GraphFrames (Yarn)",
   "language": "python",
   "name": "graphframe_yarn"
  },
  "language_info": {
   "codemirror_mode": {
    "name": "ipython",
    "version": 3
   },
   "file_extension": ".py",
   "mimetype": "text/x-python",
   "name": "python",
   "nbconvert_exporter": "python",
   "pygments_lexer": "ipython3",
   "version": "3.7.9"
  }
 },
 "nbformat": 4,
 "nbformat_minor": 5
}
