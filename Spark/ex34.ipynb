{
 "cells": [
  {
   "cell_type": "code",
   "execution_count": 12,
   "id": "alike-palestinian",
   "metadata": {},
   "outputs": [],
   "source": [
    "inputPath = \"Spark/Exercises/Ex_34/sensors.txt\"\n",
    "outputPath = \"Spark/Exercises/Ex_34/res\""
   ]
  },
  {
   "cell_type": "code",
   "execution_count": 13,
   "id": "partial-bhutan",
   "metadata": {},
   "outputs": [],
   "source": [
    "sensorsRDD = sc.textFile(inputPath)"
   ]
  },
  {
   "cell_type": "code",
   "execution_count": 14,
   "id": "metric-sport",
   "metadata": {},
   "outputs": [
    {
     "data": {
      "text/plain": [
       "60.2"
      ]
     },
     "execution_count": 14,
     "metadata": {},
     "output_type": "execute_result"
    }
   ],
   "source": [
    "max_PM10_value = sensorsRDD.map(lambda l:float(l.split(\",\")[2])).top(1)[0]\n",
    "max_PM10_value"
   ]
  },
  {
   "cell_type": "code",
   "execution_count": 15,
   "id": "controlling-lingerie",
   "metadata": {},
   "outputs": [],
   "source": [
    "resRDD = sensorsRDD.filter(lambda l:float(l.split(\",\")[2]) == max_PM10_value)"
   ]
  },
  {
   "cell_type": "code",
   "execution_count": 16,
   "id": "disabled-charter",
   "metadata": {},
   "outputs": [],
   "source": [
    "resRDD.saveAsTextFile(outputPath)"
   ]
  }
 ],
 "metadata": {
  "kernelspec": {
   "display_name": "PySpark (Local)",
   "language": "python",
   "name": "pyspark_local"
  },
  "language_info": {
   "codemirror_mode": {
    "name": "ipython",
    "version": 3
   },
   "file_extension": ".py",
   "mimetype": "text/x-python",
   "name": "python",
   "nbconvert_exporter": "python",
   "pygments_lexer": "ipython3",
   "version": "3.7.9"
  }
 },
 "nbformat": 4,
 "nbformat_minor": 5
}
