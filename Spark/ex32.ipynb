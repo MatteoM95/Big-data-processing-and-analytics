{
 "cells": [
  {
   "cell_type": "code",
   "execution_count": 3,
   "id": "secondary-comparative",
   "metadata": {},
   "outputs": [],
   "source": [
    "inputPath = \"Spark/Exercises/Ex_32/sensors.txt\""
   ]
  },
  {
   "cell_type": "code",
   "execution_count": 4,
   "id": "welsh-commitment",
   "metadata": {},
   "outputs": [],
   "source": [
    "sensorsRDD = sc.textFile(inputPath)"
   ]
  },
  {
   "cell_type": "code",
   "execution_count": 6,
   "id": "breathing-beast",
   "metadata": {},
   "outputs": [
    {
     "data": {
      "text/plain": [
       "['60.2']"
      ]
     },
     "execution_count": 6,
     "metadata": {},
     "output_type": "execute_result"
    }
   ],
   "source": [
    "top_list = sensorsRDD.map(lambda string:string.split(',')[2]).top(1)  # we could even use reduce\n",
    "top_list"
   ]
  },
  {
   "cell_type": "code",
   "execution_count": 7,
   "id": "assisted-nicholas",
   "metadata": {},
   "outputs": [
    {
     "data": {
      "text/plain": [
       "'60.2'"
      ]
     },
     "execution_count": 7,
     "metadata": {},
     "output_type": "execute_result"
    }
   ],
   "source": [
    "max_pm10_value = top_list[0]\n",
    "max_pm10_value"
   ]
  }
 ],
 "metadata": {
  "kernelspec": {
   "display_name": "PySpark (Local)",
   "language": "python",
   "name": "pyspark_local"
  },
  "language_info": {
   "codemirror_mode": {
    "name": "ipython",
    "version": 3
   },
   "file_extension": ".py",
   "mimetype": "text/x-python",
   "name": "python",
   "nbconvert_exporter": "python",
   "pygments_lexer": "ipython3",
   "version": "3.7.9"
  }
 },
 "nbformat": 4,
 "nbformat_minor": 5
}
