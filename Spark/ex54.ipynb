{
 "cells": [
  {
   "cell_type": "code",
   "execution_count": 2,
   "id": "educated-voltage",
   "metadata": {},
   "outputs": [],
   "source": [
    "from pyspark.sql import SparkSession\n",
    "from graphframes import GraphFrame"
   ]
  },
  {
   "cell_type": "code",
   "execution_count": 3,
   "id": "consecutive-sheep",
   "metadata": {},
   "outputs": [],
   "source": [
    "spark = SparkSession.builder.getOrCreate()"
   ]
  },
  {
   "cell_type": "code",
   "execution_count": 4,
   "id": "peripheral-context",
   "metadata": {},
   "outputs": [],
   "source": [
    "vertexesPath = \"Spark/Exercises/Ex_54/vertexes.csv\"\n",
    "edgesPath = \"Spark/Exercises/Ex_54/edges.csv\"\n",
    "outputPath = \"Spark/Exercises/Ex_54/res\""
   ]
  },
  {
   "cell_type": "code",
   "execution_count": 5,
   "id": "numerical-kazakhstan",
   "metadata": {},
   "outputs": [
    {
     "name": "stdout",
     "output_type": "stream",
     "text": [
      "+---+-----+---+\n",
      "| id| name|age|\n",
      "+---+-----+---+\n",
      "| u1|Alice| 34|\n",
      "| u2|  Bob| 36|\n",
      "| u3| John| 30|\n",
      "| u4|David| 29|\n",
      "| u5| Paul| 32|\n",
      "| u6| Adel| 36|\n",
      "| u7| Eddy| 60|\n",
      "+---+-----+---+\n",
      "\n"
     ]
    }
   ],
   "source": [
    "vertexesDF = spark.read.load(path=vertexesPath , format=\"csv\", header=True, inferSchema=True)\n",
    "vertexesDF.show()"
   ]
  },
  {
   "cell_type": "code",
   "execution_count": 6,
   "id": "civilian-swing",
   "metadata": {},
   "outputs": [
    {
     "name": "stdout",
     "output_type": "stream",
     "text": [
      "+---+---+--------+\n",
      "|src|dst|linktype|\n",
      "+---+---+--------+\n",
      "| u1| u2|  friend|\n",
      "| u1| u5|  friend|\n",
      "| u2| u3|  follow|\n",
      "| u3| u2|  follow|\n",
      "| u4| u1|  friend|\n",
      "| u4| u5|  friend|\n",
      "| u5| u1|  friend|\n",
      "| u5| u4|  friend|\n",
      "| u5| u6|  follow|\n",
      "| u6| u3|  follow|\n",
      "| u7| u6|  follow|\n",
      "+---+---+--------+\n",
      "\n"
     ]
    }
   ],
   "source": [
    "edgesDF = spark.read.load(path=edgesPath , format=\"csv\", header=True, inferSchema=True)\n",
    "edgesDF.show()"
   ]
  },
  {
   "cell_type": "code",
   "execution_count": 7,
   "id": "severe-signature",
   "metadata": {},
   "outputs": [],
   "source": [
    "g = GraphFrame(vertexesDF, edgesDF)"
   ]
  },
  {
   "cell_type": "code",
   "execution_count": 17,
   "id": "graduate-garlic",
   "metadata": {},
   "outputs": [
    {
     "name": "stdout",
     "output_type": "stream",
     "text": [
      "+---------------+----------------+---------------+\n",
      "|             v1|              e1|             v2|\n",
      "+---------------+----------------+---------------+\n",
      "| [u7, Eddy, 60]|[u7, u6, follow]| [u6, Adel, 36]|\n",
      "|[u1, Alice, 34]|[u1, u2, friend]|  [u2, Bob, 36]|\n",
      "| [u5, Paul, 32]|[u5, u6, follow]| [u6, Adel, 36]|\n",
      "|[u4, David, 29]|[u4, u1, friend]|[u1, Alice, 34]|\n",
      "| [u6, Adel, 36]|[u6, u3, follow]| [u3, John, 30]|\n",
      "+---------------+----------------+---------------+\n",
      "\n"
     ]
    }
   ],
   "source": [
    "motifs = g.find(\"(v1)-[e1]->(v2) ; !(v2)-[]->(v1)\")\n",
    "motifs.show()"
   ]
  },
  {
   "cell_type": "code",
   "execution_count": 18,
   "id": "ongoing-north",
   "metadata": {},
   "outputs": [
    {
     "name": "stdout",
     "output_type": "stream",
     "text": [
      "+---------------+----------------+---------------+\n",
      "|             v1|              e1|             v2|\n",
      "+---------------+----------------+---------------+\n",
      "|[u1, Alice, 34]|[u1, u2, friend]|  [u2, Bob, 36]|\n",
      "|[u4, David, 29]|[u4, u1, friend]|[u1, Alice, 34]|\n",
      "+---------------+----------------+---------------+\n",
      "\n"
     ]
    }
   ],
   "source": [
    "motifsFriendNoFriend = motifs.filter(\"e1.linktype == 'friend'\")\n",
    "motifsFriendNoFriend.show()"
   ]
  },
  {
   "cell_type": "code",
   "execution_count": 21,
   "id": "cultural-least",
   "metadata": {},
   "outputs": [
    {
     "name": "stdout",
     "output_type": "stream",
     "text": [
      "+--------+-----------+\n",
      "|IdFriend|IdNotFriend|\n",
      "+--------+-----------+\n",
      "|      u1|         u2|\n",
      "|      u4|         u1|\n",
      "+--------+-----------+\n",
      "\n"
     ]
    }
   ],
   "source": [
    "finalDF = motifsFriendNoFriend.selectExpr(\"v1.id as IdFriend\",\"v2.id as IdNotFriend\")\n",
    "finalDF.show()"
   ]
  },
  {
   "cell_type": "code",
   "execution_count": 23,
   "id": "foster-divide",
   "metadata": {},
   "outputs": [],
   "source": [
    "finalDF.write.csv(outputPath, header=True)"
   ]
  }
 ],
 "metadata": {
  "kernelspec": {
   "display_name": "GraphFrames (Yarn)",
   "language": "python",
   "name": "graphframe_yarn"
  },
  "language_info": {
   "codemirror_mode": {
    "name": "ipython",
    "version": 3
   },
   "file_extension": ".py",
   "mimetype": "text/x-python",
   "name": "python",
   "nbconvert_exporter": "python",
   "pygments_lexer": "ipython3",
   "version": "3.7.9"
  }
 },
 "nbformat": 4,
 "nbformat_minor": 5
}
