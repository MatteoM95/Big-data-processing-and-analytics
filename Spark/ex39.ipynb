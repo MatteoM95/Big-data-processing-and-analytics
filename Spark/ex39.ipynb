{
 "cells": [
  {
   "cell_type": "code",
   "execution_count": 1,
   "id": "sensitive-practitioner",
   "metadata": {},
   "outputs": [],
   "source": [
    "inputPath = \"Spark/Exercises/Ex_39/sensors.txt\"\n",
    "outputPath = \"Spark/Exercises/Ex_39/res\""
   ]
  },
  {
   "cell_type": "code",
   "execution_count": 2,
   "id": "professional-nashville",
   "metadata": {},
   "outputs": [],
   "source": [
    "SensorsRDD = sc.textFile(inputPath)"
   ]
  },
  {
   "cell_type": "code",
   "execution_count": 5,
   "id": "wireless-trance",
   "metadata": {},
   "outputs": [],
   "source": [
    "threshold = 50\n",
    "Lines_GTH_RDD = SensorsRDD.filter(lambda line : float(line.split(',')[2]) > 50)"
   ]
  },
  {
   "cell_type": "code",
   "execution_count": 6,
   "id": "martial-portal",
   "metadata": {},
   "outputs": [
    {
     "data": {
      "text/plain": [
       "['s1,2016-01-02,60.2', 's1,2016-01-03,55.5', 's2,2016-01-03,52.5']"
      ]
     },
     "execution_count": 6,
     "metadata": {},
     "output_type": "execute_result"
    }
   ],
   "source": [
    "# Lines_GTH_RDD.collect()"
   ]
  },
  {
   "cell_type": "code",
   "execution_count": 7,
   "id": "cooked-international",
   "metadata": {},
   "outputs": [
    {
     "data": {
      "text/plain": [
       "[('s1', '2016-01-02'), ('s1', '2016-01-03'), ('s2', '2016-01-03')]"
      ]
     },
     "execution_count": 7,
     "metadata": {},
     "output_type": "execute_result"
    }
   ],
   "source": [
    "Sensors_Date_RDD = Lines_GTH_RDD.map(lambda x : (x.split(',')[0] , x.split(',')[1]))\n",
    "# Sensors_Date_RDD.collect()"
   ]
  },
  {
   "cell_type": "code",
   "execution_count": 10,
   "id": "fatal-platform",
   "metadata": {},
   "outputs": [
    {
     "data": {
      "text/plain": [
       "[('s1', <pyspark.resultiterable.ResultIterable at 0x7f8f045c2290>),\n",
       " ('s2', <pyspark.resultiterable.ResultIterable at 0x7f8f045c20d0>)]"
      ]
     },
     "execution_count": 10,
     "metadata": {},
     "output_type": "execute_result"
    }
   ],
   "source": [
    "Grouped_Sensors_RDD = Sensors_Date_RDD.groupByKey()\n",
    "# Grouped_Sensors_RDD.collect()"
   ]
  },
  {
   "cell_type": "code",
   "execution_count": 11,
   "id": "dynamic-fleet",
   "metadata": {},
   "outputs": [
    {
     "data": {
      "text/plain": [
       "[('s1', ['2016-01-02', '2016-01-03']), ('s2', ['2016-01-03'])]"
      ]
     },
     "execution_count": 11,
     "metadata": {},
     "output_type": "execute_result"
    }
   ],
   "source": [
    "Final_RDD = Grouped_Sensors_RDD.mapValues(lambda listValues : list(listValues))\n",
    "Final_RDD.collect()"
   ]
  },
  {
   "cell_type": "code",
   "execution_count": 12,
   "id": "promotional-bermuda",
   "metadata": {},
   "outputs": [],
   "source": [
    "Final_RDD.saveAsTextFile(outputPath)"
   ]
  }
 ],
 "metadata": {
  "kernelspec": {
   "display_name": "PySpark (Local)",
   "language": "python",
   "name": "pyspark_local"
  },
  "language_info": {
   "codemirror_mode": {
    "name": "ipython",
    "version": 3
   },
   "file_extension": ".py",
   "mimetype": "text/x-python",
   "name": "python",
   "nbconvert_exporter": "python",
   "pygments_lexer": "ipython3",
   "version": "3.7.9"
  }
 },
 "nbformat": 4,
 "nbformat_minor": 5
}
