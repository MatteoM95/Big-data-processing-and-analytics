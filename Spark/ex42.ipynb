{
 "cells": [
  {
   "cell_type": "code",
   "execution_count": 1,
   "id": "flush-horizon",
   "metadata": {},
   "outputs": [],
   "source": [
    "inputPath1 = \"Spark/Exercises/Ex_42/questions.txt\"\n",
    "inputPath2 = \"Spark/Exercises/Ex_42/answers.txt\"\n",
    "outputPath = \"Spark/Exercises/Ex_42/res\""
   ]
  },
  {
   "cell_type": "code",
   "execution_count": 3,
   "id": "instructional-neighbor",
   "metadata": {},
   "outputs": [],
   "source": [
    "questionsRDD = sc.textFile(inputPath1)\n",
    "answersRDD = sc.textFile(inputPath2)"
   ]
  },
  {
   "cell_type": "code",
   "execution_count": 5,
   "id": "stuck-arkansas",
   "metadata": {},
   "outputs": [
    {
     "data": {
      "text/plain": [
       "[('Q1', 'What is ..?'), ('Q2', 'Who invented ..')]"
      ]
     },
     "execution_count": 5,
     "metadata": {},
     "output_type": "execute_result"
    }
   ],
   "source": [
    "questionsPairRDD = questionsRDD.map(lambda line : (line.split(\",\")[0],line.split(\",\")[2]))\n",
    "# questionsPairRDD.collect()"
   ]
  },
  {
   "cell_type": "code",
   "execution_count": 7,
   "id": "higher-begin",
   "metadata": {},
   "outputs": [
    {
     "data": {
      "text/plain": [
       "[('Q1', 'It is ..'), ('Q2', 'John Smith'), ('Q1', 'I think it is ..')]"
      ]
     },
     "execution_count": 7,
     "metadata": {},
     "output_type": "execute_result"
    }
   ],
   "source": [
    "answersPairRDD = answersRDD.map(lambda line : (line.split(\",\")[1],line.split(\",\")[3]))\n",
    "# answersPairRDD.collect()"
   ]
  },
  {
   "cell_type": "code",
   "execution_count": 10,
   "id": "present-absorption",
   "metadata": {},
   "outputs": [
    {
     "data": {
      "text/plain": [
       "[('Q1',\n",
       "  (<pyspark.resultiterable.ResultIterable at 0x7f45561fbad0>,\n",
       "   <pyspark.resultiterable.ResultIterable at 0x7f4555fa8fd0>)),\n",
       " ('Q2',\n",
       "  (<pyspark.resultiterable.ResultIterable at 0x7f45561fba90>,\n",
       "   <pyspark.resultiterable.ResultIterable at 0x7f4556059090>))]"
      ]
     },
     "execution_count": 10,
     "metadata": {},
     "output_type": "execute_result"
    }
   ],
   "source": [
    "matchRDD = questionsPairRDD.cogroup(answersPairRDD)\n",
    "# matchRDD.collect()"
   ]
  },
  {
   "cell_type": "code",
   "execution_count": 11,
   "id": "racial-native",
   "metadata": {},
   "outputs": [
    {
     "data": {
      "text/plain": [
       "[('Q1', (['What is ..?'], ['It is ..', 'I think it is ..'])),\n",
       " ('Q2', (['Who invented ..'], ['John Smith']))]"
      ]
     },
     "execution_count": 11,
     "metadata": {},
     "output_type": "execute_result"
    }
   ],
   "source": [
    "finalRDD = matchRDD.mapValues(lambda value : (list(value[0]) , list(value[1])))\n",
    "# finalRDD.collect()"
   ]
  },
  {
   "cell_type": "code",
   "execution_count": null,
   "id": "brazilian-robertson",
   "metadata": {},
   "outputs": [],
   "source": [
    "finalRDD.saveAsTextFile(outputPath)"
   ]
  }
 ],
 "metadata": {
  "kernelspec": {
   "display_name": "PySpark (Local)",
   "language": "python",
   "name": "pyspark_local"
  },
  "language_info": {
   "codemirror_mode": {
    "name": "ipython",
    "version": 3
   },
   "file_extension": ".py",
   "mimetype": "text/x-python",
   "name": "python",
   "nbconvert_exporter": "python",
   "pygments_lexer": "ipython3",
   "version": "3.7.9"
  }
 },
 "nbformat": 4,
 "nbformat_minor": 5
}
