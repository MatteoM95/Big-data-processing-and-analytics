{
 "cells": [
  {
   "cell_type": "code",
   "execution_count": 1,
   "id": "painted-cannon",
   "metadata": {},
   "outputs": [
    {
     "name": "stdout",
     "output_type": "stream",
     "text": [
      "+-----+-------+---+\n",
      "| name|surname|age|\n",
      "+-----+-------+---+\n",
      "|Paolo|  Garza| 42|\n",
      "| Luca| Boccia| 41|\n",
      "|Maura|Bianchi| 16|\n",
      "+-----+-------+---+\n",
      "\n"
     ]
    }
   ],
   "source": [
    "from pyspark.sql import SparkSession\n",
    "\n",
    "spark = SparkSession.builder.getOrCreate()\n",
    "\n",
    "inputPath = \"Spark/Exercises/Ex_49/profiles.csv\"\n",
    "outputPath = \"Spark/Exercises/Ex_49/resSQL\"\n",
    "\n",
    "df = spark.read.load(inputPath, format=\"csv\", header=True, inferSchema=True)\n",
    "df.show()"
   ]
  },
  {
   "cell_type": "code",
   "execution_count": 2,
   "id": "banned-blackberry",
   "metadata": {},
   "outputs": [],
   "source": [
    "df.createOrReplaceTempView(\"profiles\")"
   ]
  },
  {
   "cell_type": "code",
   "execution_count": 3,
   "id": "alike-steal",
   "metadata": {},
   "outputs": [
    {
     "data": {
      "text/plain": [
       "<function __main__.<lambda>(age)>"
      ]
     },
     "execution_count": 3,
     "metadata": {},
     "output_type": "execute_result"
    }
   ],
   "source": [
    "spark.udf.register(\"AgeCategory\", lambda age : \"[\"+str((age//10)*10)+\"-\"+str((age//10)*10+9)+\"]\")"
   ]
  },
  {
   "cell_type": "code",
   "execution_count": 4,
   "id": "logical-complaint",
   "metadata": {},
   "outputs": [
    {
     "name": "stdout",
     "output_type": "stream",
     "text": [
      "+-----+-------+-------+\n",
      "| name|surname|    age|\n",
      "+-----+-------+-------+\n",
      "|Paolo|  Garza|[40-49]|\n",
      "| Luca| Boccia|[40-49]|\n",
      "|Maura|Bianchi|[10-19]|\n",
      "+-----+-------+-------+\n",
      "\n"
     ]
    }
   ],
   "source": [
    "df_final = spark.sql(\"\"\"SELECT name,surname,AgeCategory(age) AS age\n",
    "                        FROM profiles \"\"\")\n",
    "df_final.show()"
   ]
  },
  {
   "cell_type": "code",
   "execution_count": null,
   "id": "dependent-arcade",
   "metadata": {},
   "outputs": [],
   "source": [
    "df_final.write.csv(outputPath,hea)"
   ]
  }
 ],
 "metadata": {
  "kernelspec": {
   "display_name": "PySpark (Local)",
   "language": "python",
   "name": "pyspark_local"
  },
  "language_info": {
   "codemirror_mode": {
    "name": "ipython",
    "version": 3
   },
   "file_extension": ".py",
   "mimetype": "text/x-python",
   "name": "python",
   "nbconvert_exporter": "python",
   "pygments_lexer": "ipython3",
   "version": "3.7.9"
  }
 },
 "nbformat": 4,
 "nbformat_minor": 5
}
