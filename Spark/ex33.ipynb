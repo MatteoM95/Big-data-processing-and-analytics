{
 "cells": [
  {
   "cell_type": "code",
   "execution_count": 1,
   "id": "registered-jamaica",
   "metadata": {},
   "outputs": [],
   "source": [
    "inputPath = \"Spark/Exercises/Ex_33/sensors.txt\""
   ]
  },
  {
   "cell_type": "code",
   "execution_count": 2,
   "id": "hired-lexington",
   "metadata": {},
   "outputs": [],
   "source": [
    "sensorsRDD = sc.textFile(inputPath)"
   ]
  },
  {
   "cell_type": "code",
   "execution_count": 18,
   "id": "mighty-aggregate",
   "metadata": {},
   "outputs": [],
   "source": [
    "PM10_RDD = sensorsRDD.map(lambda l:float(l.split(\",\")[2]))"
   ]
  },
  {
   "cell_type": "code",
   "execution_count": 21,
   "id": "lined-reform",
   "metadata": {},
   "outputs": [],
   "source": [
    "top3_PM10_RDD = PM10_RDD.top(3)\n",
    "# or\n",
    "# top3_PM10_RDD = PM10_RDD.sortBy(lambda pm:pm,ascending=False).take(3)"
   ]
  },
  {
   "cell_type": "code",
   "execution_count": 22,
   "id": "waiting-talent",
   "metadata": {},
   "outputs": [
    {
     "name": "stdout",
     "output_type": "stream",
     "text": [
      "60.2\n",
      "55.5\n",
      "52.5\n"
     ]
    }
   ],
   "source": [
    "for pm_value in top3_PM10_RDD: print(pm_value) "
   ]
  }
 ],
 "metadata": {
  "kernelspec": {
   "display_name": "PySpark (Local)",
   "language": "python",
   "name": "pyspark_local"
  },
  "language_info": {
   "codemirror_mode": {
    "name": "ipython",
    "version": 3
   },
   "file_extension": ".py",
   "mimetype": "text/x-python",
   "name": "python",
   "nbconvert_exporter": "python",
   "pygments_lexer": "ipython3",
   "version": "3.7.9"
  }
 },
 "nbformat": 4,
 "nbformat_minor": 5
}
