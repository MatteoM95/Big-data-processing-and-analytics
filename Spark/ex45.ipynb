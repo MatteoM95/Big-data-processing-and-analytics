{
 "cells": [
  {
   "cell_type": "code",
   "execution_count": 3,
   "id": "fabulous-pride",
   "metadata": {},
   "outputs": [],
   "source": [
    "moviesPath = \"Spark/Exercises/Ex_45/movies.txt\"\n",
    "preferencesPath = \"Spark/Exercises/Ex_45/preferences.txt\"\n",
    "watchedMoviesPath = \"Spark/Exercises/Ex_45/watchedmovies.txt\"\n",
    "moviesRDD = sc.textFile(moviesPath)\n",
    "# MID, title, genre\n",
    "preferencesRDD = sc.textFile(preferencesPath)\n",
    "# UID, genre\n",
    "watchedMoviesRDD = sc.textFile(watchedMoviesPath)\n",
    "# UID, MID, startTS, endTS"
   ]
  },
  {
   "cell_type": "code",
   "execution_count": 53,
   "id": "conceptual-daniel",
   "metadata": {},
   "outputs": [
    {
     "data": {
      "text/plain": [
       "[('user2',\n",
       "  (['Action'], ['Comedy', 'Comedy', 'Comedy', 'Comedy', 'Action', 'Comedy'])),\n",
       " ('user1',\n",
       "  (['Animation', 'Comedy'], ['Comedy', 'Animation', 'Comedy', 'Comedy']))]"
      ]
     },
     "execution_count": 53,
     "metadata": {},
     "output_type": "execute_result"
    }
   ],
   "source": [
    "# (MID, UID)\n",
    "MID_UID_RDD = watchedMoviesRDD.map(lambda line : (line.split(\",\")[1],line.split(\",\")[0]))\n",
    "# (MID, genre)\n",
    "MID_genre_RDD = moviesRDD.map(lambda line : (line.split(\",\")[0],line.split(\",\")[2]))\n",
    "# (MID, (UID, genre)) -> (UID, watchedGenre) with repetitions of UID\n",
    "UID_WG_RDD = MID_UID_RDD.join(MID_genre_RDD).values()\n",
    "# (UID, likedGenre) with repetitions of UID\n",
    "UID_likedGenre_RDD = preferencesRDD.map(lambda line : (line.split(\",\")[0],line.split(\",\")[1]))\n",
    "# (UID, ([likedGenres], [watchedGenres]))\n",
    "UID_listLGListWG_RDD = UID_likedGenre_RDD.cogroup(UID_WG_RDD).mapValues(lambda t : (list(t[0]), list(t[1])))\n",
    "UID_listLGListWG_RDD.collect()"
   ]
  },
  {
   "cell_type": "code",
   "execution_count": 58,
   "id": "atlantic-greensboro",
   "metadata": {},
   "outputs": [],
   "source": [
    "def filtUser(x):\n",
    "    likedGenres = x[1][0]\n",
    "    watchedGenres = x[1][1]\n",
    "    nonMatch = 0\n",
    "    for currGenre in watchedGenres:\n",
    "        if currGenre not in likedGenres:\n",
    "            nonMatch += 1\n",
    "    if 100*nonMatch/len(watchedGenres) > 60:\n",
    "        return True\n",
    "    else:\n",
    "        return False\n",
    "\n",
    "# (mislUID, ([likedGenres], [watchedGenres]))\n",
    "mislUID_listLGListWG_RDD = UID_listLGListWG_RDD.filter(filtUser)"
   ]
  },
  {
   "cell_type": "code",
   "execution_count": 65,
   "id": "color-thursday",
   "metadata": {},
   "outputs": [
    {
     "data": {
      "text/plain": [
       "[('user2', ['Comedy'])]"
      ]
     },
     "execution_count": 65,
     "metadata": {},
     "output_type": "execute_result"
    }
   ],
   "source": [
    "def mapFunc2(x):\n",
    "    likedGenres = x[1][0]\n",
    "    watchedGenres = x[1][1]\n",
    "    localDict = {}\n",
    "    finalGenresList = []\n",
    "    \n",
    "    for currWatchedGenre in watchedGenres:\n",
    "        if currWatchedGenre not in likedGenres:\n",
    "            if currWatchedGenre not in localDict:\n",
    "                localDict[currWatchedGenre] = 1\n",
    "            else:\n",
    "                localDict[currWatchedGenre] += 1\n",
    "    \n",
    "    for genre in localDict.keys():\n",
    "        if localDict[genre] >= 5:\n",
    "            finalGenresList.append(genre)\n",
    "    \n",
    "    return (x[0], finalGenresList)\n",
    "    \n",
    "    \n",
    "finalRDD = mislUID_listLGListWG_RDD.map(mapFunc2)\n",
    "finalRDD.collect()"
   ]
  }
 ],
 "metadata": {
  "kernelspec": {
   "display_name": "PySpark (Local)",
   "language": "python",
   "name": "pyspark_local"
  },
  "language_info": {
   "codemirror_mode": {
    "name": "ipython",
    "version": 3
   },
   "file_extension": ".py",
   "mimetype": "text/x-python",
   "name": "python",
   "nbconvert_exporter": "python",
   "pygments_lexer": "ipython3",
   "version": "3.7.9"
  }
 },
 "nbformat": 4,
 "nbformat_minor": 5
}
