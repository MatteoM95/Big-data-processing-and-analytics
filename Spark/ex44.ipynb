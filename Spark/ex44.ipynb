{
 "cells": [
  {
   "cell_type": "code",
   "execution_count": 34,
   "id": "waiting-newman",
   "metadata": {},
   "outputs": [],
   "source": [
    "moviesPath = \"Spark/Exercises/Ex_44/movies.txt\"\n",
    "preferencesPath = \"Spark/Exercises/Ex_44/preferences.txt\"\n",
    "watchedMoviesPath = \"Spark/Exercises/Ex_44/watchedmovies.txt\"\n",
    "outputPath = \"Spark/Exercises/Ex_44/res\""
   ]
  },
  {
   "cell_type": "code",
   "execution_count": 7,
   "id": "macro-primary",
   "metadata": {},
   "outputs": [],
   "source": [
    "moviesRDD = sc.textFile(moviesPath)\n",
    "preferencesRDD = sc.textFile(preferencesPath)\n",
    "watchedMoviesRDD = sc.textFile(watchedMoviesPath)"
   ]
  },
  {
   "cell_type": "code",
   "execution_count": 8,
   "id": "controlled-album",
   "metadata": {},
   "outputs": [
    {
     "data": {
      "text/plain": [
       "['user1,movie1,201606061500,201606061650',\n",
       " 'user1,movie3,201606061800,201606061834',\n",
       " 'user1,movie4,201609061500,201609061605',\n",
       " 'user1,movie5,201610061100,201610061450',\n",
       " 'user2,movie6,201610081800,201610081845',\n",
       " 'user2,movie3,201610091800,201610091834',\n",
       " 'user2,movie4,201611051100,201611051105']"
      ]
     },
     "execution_count": 8,
     "metadata": {},
     "output_type": "execute_result"
    }
   ],
   "source": [
    "watchedMoviesRDD.collect()"
   ]
  },
  {
   "cell_type": "code",
   "execution_count": 4,
   "id": "confidential-biotechnology",
   "metadata": {},
   "outputs": [
    {
     "data": {
      "text/plain": [
       "['user1,Animation', 'user1,Comedy', 'user2,Action']"
      ]
     },
     "execution_count": 4,
     "metadata": {},
     "output_type": "execute_result"
    }
   ],
   "source": [
    "preferencesRDD.collect()"
   ]
  },
  {
   "cell_type": "code",
   "execution_count": 9,
   "id": "hired-profit",
   "metadata": {},
   "outputs": [
    {
     "data": {
      "text/plain": [
       "['movie1,Toy Story (1995),Animation',\n",
       " 'movie2,Jumanji (1995),Adventure',\n",
       " 'movie3,Grumpier Old Men (1995),Comedy',\n",
       " 'movie4,Waiting to Exhale (1995),Comedy',\n",
       " 'movie5,Father of the Bride Part II (1995),Comedy',\n",
       " 'movie6,Heat (1995),Action',\n",
       " 'movie7,Sabrina (1995),Comedy',\n",
       " 'movie8,Tom and Huck (1995),Adventure',\n",
       " 'movie9,Sudden Death (1995),Action',\n",
       " 'movie10,GoldenEye (1995),Action']"
      ]
     },
     "execution_count": 9,
     "metadata": {},
     "output_type": "execute_result"
    }
   ],
   "source": [
    "moviesRDD.collect()"
   ]
  },
  {
   "cell_type": "code",
   "execution_count": 10,
   "id": "liable-agriculture",
   "metadata": {},
   "outputs": [],
   "source": [
    "threshold = 60"
   ]
  },
  {
   "cell_type": "code",
   "execution_count": 11,
   "id": "monetary-administrator",
   "metadata": {},
   "outputs": [
    {
     "data": {
      "text/plain": [
       "[('movie1', 'Animation'),\n",
       " ('movie2', 'Adventure'),\n",
       " ('movie3', 'Comedy'),\n",
       " ('movie4', 'Comedy'),\n",
       " ('movie5', 'Comedy'),\n",
       " ('movie6', 'Action'),\n",
       " ('movie7', 'Comedy'),\n",
       " ('movie8', 'Adventure'),\n",
       " ('movie9', 'Action'),\n",
       " ('movie10', 'Action')]"
      ]
     },
     "execution_count": 11,
     "metadata": {},
     "output_type": "execute_result"
    }
   ],
   "source": [
    "movieId_genre_RDD = moviesRDD.map(lambda line : (line.split(\",\")[0] , line.split(\",\")[2]))\n",
    "movieId_genre_RDD.collect()"
   ]
  },
  {
   "cell_type": "code",
   "execution_count": 15,
   "id": "wanted-interaction",
   "metadata": {},
   "outputs": [
    {
     "data": {
      "text/plain": [
       "[('user1', ['Animation', 'Comedy']), ('user2', ['Action'])]"
      ]
     },
     "execution_count": 15,
     "metadata": {},
     "output_type": "execute_result"
    }
   ],
   "source": [
    "user_listLikedGenres_RDD = preferencesRDD.map(lambda line : (line.split(\",\")[0] , line.split(\",\")[1])).groupByKey().mapValues(lambda listValues : list(listValues))\n",
    "user_listLikedGenres_RDD.collect()"
   ]
  },
  {
   "cell_type": "code",
   "execution_count": 17,
   "id": "chicken-failure",
   "metadata": {},
   "outputs": [
    {
     "data": {
      "text/plain": [
       "[('movie1', 'user1'),\n",
       " ('movie3', 'user1'),\n",
       " ('movie4', 'user1'),\n",
       " ('movie5', 'user1'),\n",
       " ('movie6', 'user2'),\n",
       " ('movie3', 'user2'),\n",
       " ('movie4', 'user2')]"
      ]
     },
     "execution_count": 17,
     "metadata": {},
     "output_type": "execute_result"
    }
   ],
   "source": [
    "movie_user_RDD = watchedMoviesRDD.map(lambda line : (line.split(\",\")[1], line.split(\",\")[0]))\n",
    "movie_user_RDD.collect()"
   ]
  },
  {
   "cell_type": "code",
   "execution_count": 26,
   "id": "contemporary-concern",
   "metadata": {},
   "outputs": [
    {
     "data": {
      "text/plain": [
       "[('user1', 'Comedy'),\n",
       " ('user1', 'Animation'),\n",
       " ('user1', 'Comedy'),\n",
       " ('user2', 'Comedy'),\n",
       " ('user1', 'Comedy'),\n",
       " ('user2', 'Comedy'),\n",
       " ('user2', 'Action')]"
      ]
     },
     "execution_count": 26,
     "metadata": {},
     "output_type": "execute_result"
    }
   ],
   "source": [
    "user_watchedGenre_RDD = movie_user_RDD.join(movieId_genre_RDD).values()\n",
    "user_watchedGenre_RDD.collect()"
   ]
  },
  {
   "cell_type": "code",
   "execution_count": 28,
   "id": "collect-emission",
   "metadata": {},
   "outputs": [
    {
     "data": {
      "text/plain": [
       "[('user2', 'Comedy', ['Action']),\n",
       " ('user2', 'Comedy', ['Action']),\n",
       " ('user2', 'Action', ['Action']),\n",
       " ('user1', 'Comedy', ['Animation', 'Comedy']),\n",
       " ('user1', 'Animation', ['Animation', 'Comedy']),\n",
       " ('user1', 'Comedy', ['Animation', 'Comedy']),\n",
       " ('user1', 'Comedy', ['Animation', 'Comedy'])]"
      ]
     },
     "execution_count": 28,
     "metadata": {},
     "output_type": "execute_result"
    }
   ],
   "source": [
    "# creating an RDD with (userId, watchedGenre, likedGenres)\n",
    "uId_wG_lGs_RDD = user_watchedGenre_RDD.join(user_listLikedGenres_RDD).map(lambda x : (x[0],x[1][0],x[1][1]))\n",
    "uId_wG_lGs_RDD.collect()"
   ]
  },
  {
   "cell_type": "code",
   "execution_count": 30,
   "id": "convinced-florida",
   "metadata": {},
   "outputs": [],
   "source": [
    "def moviesMatch(record):\n",
    "    watchedGenre = record[1]\n",
    "    likedGenres = record[2]\n",
    "    \n",
    "    if watchedGenre not in likedGenres:\n",
    "        return (record[0],(1,1))\n",
    "    else:\n",
    "        return (record[0],(0,1))"
   ]
  },
  {
   "cell_type": "code",
   "execution_count": 33,
   "id": "suspended-intelligence",
   "metadata": {},
   "outputs": [
    {
     "data": {
      "text/plain": [
       "[('user2', 66.66666666666667)]"
      ]
     },
     "execution_count": 33,
     "metadata": {},
     "output_type": "execute_result"
    }
   ],
   "source": [
    "finalRDD = uId_wG_lGs_RDD.map(moviesMatch).reduceByKey(lambda t1,t2 : (t1[0]+t2[0] , t1[1]+t2[1])).mapValues(lambda t : 100*t[0]/t[1]).filter(lambda t : t[1] > threshold)\n",
    "finalRDD.collect()"
   ]
  },
  {
   "cell_type": "code",
   "execution_count": 36,
   "id": "endangered-trade",
   "metadata": {},
   "outputs": [],
   "source": [
    "finalRDD.map(lambda x : x[0]).saveAsTextFile(outputPath)"
   ]
  }
 ],
 "metadata": {
  "kernelspec": {
   "display_name": "PySpark (Local)",
   "language": "python",
   "name": "pyspark_local"
  },
  "language_info": {
   "codemirror_mode": {
    "name": "ipython",
    "version": 3
   },
   "file_extension": ".py",
   "mimetype": "text/x-python",
   "name": "python",
   "nbconvert_exporter": "python",
   "pygments_lexer": "ipython3",
   "version": "3.7.9"
  }
 },
 "nbformat": 4,
 "nbformat_minor": 5
}
