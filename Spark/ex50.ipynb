{
 "cells": [
  {
   "cell_type": "code",
   "execution_count": 1,
   "id": "unlike-attendance",
   "metadata": {},
   "outputs": [
    {
     "name": "stdout",
     "output_type": "stream",
     "text": [
      "+-----+-------+---+\n",
      "| name|surname|age|\n",
      "+-----+-------+---+\n",
      "|Paolo|  Garza| 42|\n",
      "| Luca| Boccia| 41|\n",
      "|Maura|Bianchi| 16|\n",
      "+-----+-------+---+\n",
      "\n"
     ]
    }
   ],
   "source": [
    "from pyspark.sql import SparkSession\n",
    "\n",
    "spark = SparkSession.builder.getOrCreate()\n",
    "\n",
    "inputPath = \"Spark/Exercises/Ex_50/profiles.csv\"\n",
    "outputPath = \"Spark/Exercises/Ex_50/res\"\n",
    "\n",
    "df = spark.read.load(inputPath, format=\"csv\", header=True, inferSchema=True)\n",
    "df.show()"
   ]
  },
  {
   "cell_type": "code",
   "execution_count": 3,
   "id": "bearing-machinery",
   "metadata": {},
   "outputs": [
    {
     "data": {
      "text/plain": [
       "<function __main__.<lambda>(string1, string2)>"
      ]
     },
     "execution_count": 3,
     "metadata": {},
     "output_type": "execute_result"
    }
   ],
   "source": [
    "spark.udf.register(\"Concatenate\", lambda string1,string2 : string1 + \" \" + string2)"
   ]
  },
  {
   "cell_type": "code",
   "execution_count": 4,
   "id": "weighted-mauritius",
   "metadata": {},
   "outputs": [
    {
     "name": "stdout",
     "output_type": "stream",
     "text": [
      "+-------------+\n",
      "| name_surname|\n",
      "+-------------+\n",
      "|  Paolo Garza|\n",
      "|  Luca Boccia|\n",
      "|Maura Bianchi|\n",
      "+-------------+\n",
      "\n"
     ]
    }
   ],
   "source": [
    "df_final = df.selectExpr(\"Concatenate(name,surname) AS name_surname\")\n",
    "df_final.show()"
   ]
  },
  {
   "cell_type": "code",
   "execution_count": 6,
   "id": "tribal-holocaust",
   "metadata": {},
   "outputs": [],
   "source": [
    "df_final.write.csv(outputPath,header=True)"
   ]
  }
 ],
 "metadata": {
  "kernelspec": {
   "display_name": "PySpark (Local)",
   "language": "python",
   "name": "pyspark_local"
  },
  "language_info": {
   "codemirror_mode": {
    "name": "ipython",
    "version": 3
   },
   "file_extension": ".py",
   "mimetype": "text/x-python",
   "name": "python",
   "nbconvert_exporter": "python",
   "pygments_lexer": "ipython3",
   "version": "3.7.9"
  }
 },
 "nbformat": 4,
 "nbformat_minor": 5
}
