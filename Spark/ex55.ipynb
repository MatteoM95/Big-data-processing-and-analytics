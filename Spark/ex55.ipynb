{
 "cells": [
  {
   "cell_type": "code",
   "execution_count": 2,
   "id": "after-milton",
   "metadata": {},
   "outputs": [],
   "source": [
    "from pyspark.sql import SparkSession\n",
    "from graphframes import GraphFrame\n",
    "\n",
    "spark = SparkSession.builder.getOrCreate()\n",
    "\n",
    "vertexesPath = \"Spark/Exercises/Ex_55/vertexes.csv\"\n",
    "edgesPath = \"Spark/Exercises/Ex_55/edges.csv\"\n",
    "outputPath = \"Spark/Exercises/Ex_55/res\""
   ]
  },
  {
   "cell_type": "code",
   "execution_count": 3,
   "id": "addressed-biography",
   "metadata": {},
   "outputs": [
    {
     "name": "stdout",
     "output_type": "stream",
     "text": [
      "+---+----------+--------+\n",
      "| id|entityName|    name|\n",
      "+---+----------+--------+\n",
      "| V1|      user|   Paolo|\n",
      "| V2|     topic|     SQL|\n",
      "| V3|      user|   David|\n",
      "| V4|     topic|Big Data|\n",
      "| V5|      user|    John|\n",
      "+---+----------+--------+\n",
      "\n"
     ]
    }
   ],
   "source": [
    "vertexesDF = spark.read.load(path=vertexesPath , format=\"csv\", header=True, inferSchema=True)\n",
    "vertexesDF.show()"
   ]
  },
  {
   "cell_type": "code",
   "execution_count": 4,
   "id": "provincial-litigation",
   "metadata": {},
   "outputs": [
    {
     "name": "stdout",
     "output_type": "stream",
     "text": [
      "+---+---+----------+\n",
      "|src|dst|  linktype|\n",
      "+---+---+----------+\n",
      "| V1| V2|      like|\n",
      "| V1| V3|    follow|\n",
      "| V1| V4|    follow|\n",
      "| V3| V2|    follow|\n",
      "| V3| V4|    follow|\n",
      "| V5| V2|  expertOf|\n",
      "| V2| V4|correlated|\n",
      "| V4| V2|correlated|\n",
      "+---+---+----------+\n",
      "\n"
     ]
    }
   ],
   "source": [
    "edgesDF = spark.read.load(path=edgesPath , format=\"csv\", header=True, inferSchema=True)\n",
    "edgesDF.show()"
   ]
  },
  {
   "cell_type": "code",
   "execution_count": 5,
   "id": "alert-presentation",
   "metadata": {},
   "outputs": [
    {
     "name": "stdout",
     "output_type": "stream",
     "text": [
      "+---+---+--------+\n",
      "|src|dst|linktype|\n",
      "+---+---+--------+\n",
      "| V1| V3|  follow|\n",
      "| V1| V4|  follow|\n",
      "| V3| V2|  follow|\n",
      "| V3| V4|  follow|\n",
      "+---+---+--------+\n",
      "\n"
     ]
    }
   ],
   "source": [
    "filteredEdgesDF = edgesDF.filter(\"linktype == 'follow'\")\n",
    "filteredEdgesDF.show()"
   ]
  },
  {
   "cell_type": "code",
   "execution_count": 6,
   "id": "crucial-toddler",
   "metadata": {},
   "outputs": [],
   "source": [
    "g = GraphFrame(vertexesDF,filteredEdgesDF)"
   ]
  },
  {
   "cell_type": "code",
   "execution_count": 7,
   "id": "vanilla-midnight",
   "metadata": {},
   "outputs": [
    {
     "name": "stdout",
     "output_type": "stream",
     "text": [
      "+-----------------+--------------------+\n",
      "|               v1|                  v2|\n",
      "+-----------------+--------------------+\n",
      "|[V1, user, Paolo]|   [V3, user, David]|\n",
      "|[V1, user, Paolo]|[V4, topic, Big D...|\n",
      "|[V3, user, David]|    [V2, topic, SQL]|\n",
      "|[V3, user, David]|[V4, topic, Big D...|\n",
      "+-----------------+--------------------+\n",
      "\n"
     ]
    }
   ],
   "source": [
    "pathsDF = g.find(\"(v1)-[]->(v2)\")\n",
    "pathsDF.show()"
   ]
  },
  {
   "cell_type": "code",
   "execution_count": 10,
   "id": "genetic-complement",
   "metadata": {},
   "outputs": [
    {
     "name": "stdout",
     "output_type": "stream",
     "text": [
      "+-----------------+--------------------+\n",
      "|               v1|                  v2|\n",
      "+-----------------+--------------------+\n",
      "|[V1, user, Paolo]|[V4, topic, Big D...|\n",
      "|[V3, user, David]|    [V2, topic, SQL]|\n",
      "|[V3, user, David]|[V4, topic, Big D...|\n",
      "+-----------------+--------------------+\n",
      "\n"
     ]
    }
   ],
   "source": [
    "topicPathsDF = pathsDF.filter(\"v1.entityName == 'user' and v2.entityName == 'topic'\")\n",
    "topicPathsDF.show()"
   ]
  },
  {
   "cell_type": "code",
   "execution_count": 11,
   "id": "musical-manhattan",
   "metadata": {},
   "outputs": [
    {
     "name": "stdout",
     "output_type": "stream",
     "text": [
      "+--------+--------+\n",
      "|username|   topic|\n",
      "+--------+--------+\n",
      "|   Paolo|Big Data|\n",
      "|   David|     SQL|\n",
      "|   David|Big Data|\n",
      "+--------+--------+\n",
      "\n"
     ]
    }
   ],
   "source": [
    "finalDF = topicPathsDF.selectExpr(\"v1.name as username\",\"v2.name as topic\")\n",
    "finalDF.show()"
   ]
  },
  {
   "cell_type": "code",
   "execution_count": 12,
   "id": "controversial-gasoline",
   "metadata": {},
   "outputs": [],
   "source": [
    "finalDF.write.csv(outputPath,header=True)"
   ]
  }
 ],
 "metadata": {
  "kernelspec": {
   "display_name": "GraphFrames (Yarn)",
   "language": "python",
   "name": "graphframe_yarn"
  },
  "language_info": {
   "codemirror_mode": {
    "name": "ipython",
    "version": 3
   },
   "file_extension": ".py",
   "mimetype": "text/x-python",
   "name": "python",
   "nbconvert_exporter": "python",
   "pygments_lexer": "ipython3",
   "version": "3.7.9"
  }
 },
 "nbformat": 4,
 "nbformat_minor": 5
}
