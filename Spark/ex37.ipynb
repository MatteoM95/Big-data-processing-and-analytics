{
 "cells": [
  {
   "cell_type": "code",
   "execution_count": 25,
   "id": "civic-pleasure",
   "metadata": {},
   "outputs": [],
   "source": [
    "inputPath = \"Spark/Exercises/Ex_37/sensors.txt\"\n",
    "outputPath = \"Spark/Exercises/Ex_37/res\""
   ]
  },
  {
   "cell_type": "code",
   "execution_count": 14,
   "id": "arranged-negative",
   "metadata": {},
   "outputs": [],
   "source": [
    "SensorsRDD = sc.textFile(inputPath)"
   ]
  },
  {
   "cell_type": "code",
   "execution_count": 15,
   "id": "conservative-migration",
   "metadata": {},
   "outputs": [
    {
     "data": {
      "text/plain": [
       "['s1,2016-01-01,20.5',\n",
       " 's2,2016-01-01,30.1',\n",
       " 's1,2016-01-02,60.2',\n",
       " 's2,2016-01-02,20.4',\n",
       " 's1,2016-01-03,55.5',\n",
       " 's2,2016-01-03,52.5']"
      ]
     },
     "execution_count": 15,
     "metadata": {},
     "output_type": "execute_result"
    }
   ],
   "source": [
    "# SensorsRDD.collect()"
   ]
  },
  {
   "cell_type": "code",
   "execution_count": 18,
   "id": "historical-fossil",
   "metadata": {},
   "outputs": [],
   "source": [
    "Sensor_Value_RDD = SensorsRDD.map(lambda line: (line.split(',')[0] , float(line.split(',')[2])))"
   ]
  },
  {
   "cell_type": "code",
   "execution_count": 20,
   "id": "metropolitan-annotation",
   "metadata": {},
   "outputs": [
    {
     "data": {
      "text/plain": [
       "[('s1', 20.5),\n",
       " ('s2', 30.1),\n",
       " ('s1', 60.2),\n",
       " ('s2', 20.4),\n",
       " ('s1', 55.5),\n",
       " ('s2', 52.5)]"
      ]
     },
     "execution_count": 20,
     "metadata": {},
     "output_type": "execute_result"
    }
   ],
   "source": [
    "# Sensor_Value_RDD.collect()"
   ]
  },
  {
   "cell_type": "code",
   "execution_count": 21,
   "id": "bulgarian-garage",
   "metadata": {},
   "outputs": [],
   "source": [
    "MaxPM10value_per_key_RDD = Sensor_Value_RDD.reduceByKey(lambda v1,v2: max(v1,v2))"
   ]
  },
  {
   "cell_type": "code",
   "execution_count": 23,
   "id": "accessory-generation",
   "metadata": {},
   "outputs": [
    {
     "data": {
      "text/plain": [
       "[('s1', 60.2), ('s2', 52.5)]"
      ]
     },
     "execution_count": 23,
     "metadata": {},
     "output_type": "execute_result"
    }
   ],
   "source": [
    "# MaxPM10value_per_key_RDD.collect()"
   ]
  },
  {
   "cell_type": "code",
   "execution_count": 26,
   "id": "prescription-tenant",
   "metadata": {},
   "outputs": [],
   "source": [
    "MaxPM10value_per_key_RDD.saveAsTextFile(outputPath)"
   ]
  }
 ],
 "metadata": {
  "kernelspec": {
   "display_name": "PySpark (Local)",
   "language": "python",
   "name": "pyspark_local"
  },
  "language_info": {
   "codemirror_mode": {
    "name": "ipython",
    "version": 3
   },
   "file_extension": ".py",
   "mimetype": "text/x-python",
   "name": "python",
   "nbconvert_exporter": "python",
   "pygments_lexer": "ipython3",
   "version": "3.7.9"
  }
 },
 "nbformat": 4,
 "nbformat_minor": 5
}
