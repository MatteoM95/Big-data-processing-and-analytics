{
 "cells": [
  {
   "cell_type": "code",
   "execution_count": 1,
   "id": "polyphonic-navigator",
   "metadata": {},
   "outputs": [],
   "source": [
    "inputPath = \"Spark/Exercises/Ex_35/sensors.txt\"\n",
    "outputPath = \"Spark/Exercises/Ex_35/res\""
   ]
  },
  {
   "cell_type": "code",
   "execution_count": 2,
   "id": "increasing-limit",
   "metadata": {},
   "outputs": [],
   "source": [
    "sensorsRDD = sc.textFile(inputPath)"
   ]
  },
  {
   "cell_type": "code",
   "execution_count": 4,
   "id": "sustainable-slovakia",
   "metadata": {},
   "outputs": [
    {
     "data": {
      "text/plain": [
       "60.2"
      ]
     },
     "execution_count": 4,
     "metadata": {},
     "output_type": "execute_result"
    }
   ],
   "source": [
    "max_PM10_value = sensorsRDD.map(lambda l : float(l.split(\",\")[2])).reduce(lambda v1,v2 : max(v1,v2))\n",
    "max_PM10_value"
   ]
  },
  {
   "cell_type": "code",
   "execution_count": 7,
   "id": "signal-nurse",
   "metadata": {},
   "outputs": [],
   "source": [
    "datesRDD = sensorsRDD.filter(lambda l : float(l.split(\",\")[2]) == max_PM10_value).map(lambda l : l.split(\",\")[1])"
   ]
  },
  {
   "cell_type": "code",
   "execution_count": 9,
   "id": "aerial-there",
   "metadata": {},
   "outputs": [],
   "source": [
    "datesRDD.saveAsTextFile(outputPath)"
   ]
  }
 ],
 "metadata": {
  "kernelspec": {
   "display_name": "PySpark (Local)",
   "language": "python",
   "name": "pyspark_local"
  },
  "language_info": {
   "codemirror_mode": {
    "name": "ipython",
    "version": 3
   },
   "file_extension": ".py",
   "mimetype": "text/x-python",
   "name": "python",
   "nbconvert_exporter": "python",
   "pygments_lexer": "ipython3",
   "version": "3.7.9"
  }
 },
 "nbformat": 4,
 "nbformat_minor": 5
}
