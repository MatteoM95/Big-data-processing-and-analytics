{
 "cells": [
  {
   "cell_type": "code",
   "execution_count": 11,
   "id": "interracial-following",
   "metadata": {},
   "outputs": [],
   "source": [
    "inputPath = \"Spark/Exercises/Ex_47/persons.csv\"\n",
    "outputPath = \"Spark/Exercises/Ex_47/resSQL\""
   ]
  },
  {
   "cell_type": "code",
   "execution_count": 2,
   "id": "cheap-dover",
   "metadata": {},
   "outputs": [],
   "source": [
    "from pyspark.sql import SparkSession\n",
    "\n",
    "spark = SparkSession.builder.getOrCreate()"
   ]
  },
  {
   "cell_type": "code",
   "execution_count": 3,
   "id": "noted-pursuit",
   "metadata": {},
   "outputs": [],
   "source": [
    "df = spark.read.load(inputPath, format=\"csv\", header=True, inferSchema=True)"
   ]
  },
  {
   "cell_type": "code",
   "execution_count": 4,
   "id": "active-excuse",
   "metadata": {},
   "outputs": [],
   "source": [
    "df.createOrReplaceTempView(\"persons\")"
   ]
  },
  {
   "cell_type": "code",
   "execution_count": 9,
   "id": "hazardous-class",
   "metadata": {},
   "outputs": [],
   "source": [
    "df_final = spark.sql(\"\"\"SELECT name,age+1 AS age\n",
    "                        FROM persons \n",
    "                        WHERE gender='male' \n",
    "                        SORT BY age DESC, name\"\"\")"
   ]
  },
  {
   "cell_type": "code",
   "execution_count": 10,
   "id": "awful-large",
   "metadata": {},
   "outputs": [
    {
     "name": "stdout",
     "output_type": "stream",
     "text": [
      "+-----+---+\n",
      "| name|age|\n",
      "+-----+---+\n",
      "| John| 41|\n",
      "| Paul| 41|\n",
      "|David| 16|\n",
      "+-----+---+\n",
      "\n"
     ]
    }
   ],
   "source": [
    "df_final.show()"
   ]
  },
  {
   "cell_type": "code",
   "execution_count": 12,
   "id": "treated-translator",
   "metadata": {},
   "outputs": [],
   "source": [
    "df_final.write.csv(outputPath,header=False)"
   ]
  }
 ],
 "metadata": {
  "kernelspec": {
   "display_name": "PySpark (Local)",
   "language": "python",
   "name": "pyspark_local"
  },
  "language_info": {
   "codemirror_mode": {
    "name": "ipython",
    "version": 3
   },
   "file_extension": ".py",
   "mimetype": "text/x-python",
   "name": "python",
   "nbconvert_exporter": "python",
   "pygments_lexer": "ipython3",
   "version": "3.7.9"
  }
 },
 "nbformat": 4,
 "nbformat_minor": 5
}
