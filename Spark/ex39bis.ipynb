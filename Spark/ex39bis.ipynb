{
 "cells": [
  {
   "cell_type": "code",
   "execution_count": 8,
   "id": "scheduled-award",
   "metadata": {},
   "outputs": [],
   "source": [
    "inputPath = \"Spark/Exercises/Ex_39bis/sensors.txt\"\n",
    "outputPath = \"Spark/Exercises/Ex_39bis/res\""
   ]
  },
  {
   "cell_type": "code",
   "execution_count": 10,
   "id": "abstract-revision",
   "metadata": {},
   "outputs": [],
   "source": [
    "SensorsRDD = sc.textFile(inputPath)"
   ]
  },
  {
   "cell_type": "code",
   "execution_count": 3,
   "id": "objective-faculty",
   "metadata": {},
   "outputs": [],
   "source": [
    "threshold = 50\n",
    "Lines_GTH_RDD = SensorsRDD.filter(lambda line : float(line.split(',')[2]) > 50)"
   ]
  },
  {
   "cell_type": "code",
   "execution_count": 4,
   "id": "employed-monaco",
   "metadata": {},
   "outputs": [
    {
     "data": {
      "text/plain": [
       "['s1,2016-01-02,60.2', 's1,2016-01-03,55.5', 's2,2016-01-03,52.5']"
      ]
     },
     "execution_count": 4,
     "metadata": {},
     "output_type": "execute_result"
    }
   ],
   "source": [
    "# Lines_GTH_RDD.collect()"
   ]
  },
  {
   "cell_type": "code",
   "execution_count": 5,
   "id": "affecting-conservative",
   "metadata": {},
   "outputs": [
    {
     "data": {
      "text/plain": [
       "[('s1', '2016-01-02'), ('s1', '2016-01-03'), ('s2', '2016-01-03')]"
      ]
     },
     "execution_count": 5,
     "metadata": {},
     "output_type": "execute_result"
    }
   ],
   "source": [
    "Sensors_Date_RDD = Lines_GTH_RDD.map(lambda x : (x.split(',')[0] , x.split(',')[1]))\n",
    "# Sensors_Date_RDD.collect()"
   ]
  },
  {
   "cell_type": "code",
   "execution_count": 6,
   "id": "regular-tracy",
   "metadata": {},
   "outputs": [
    {
     "data": {
      "text/plain": [
       "[('s1', <pyspark.resultiterable.ResultIterable at 0x7fca4de0f1d0>),\n",
       " ('s2', <pyspark.resultiterable.ResultIterable at 0x7fca4de0f190>)]"
      ]
     },
     "execution_count": 6,
     "metadata": {},
     "output_type": "execute_result"
    }
   ],
   "source": [
    "Grouped_Sensors_RDD = Sensors_Date_RDD.groupByKey()\n",
    "# Grouped_Sensors_RDD.collect()"
   ]
  },
  {
   "cell_type": "code",
   "execution_count": 7,
   "id": "international-bumper",
   "metadata": {},
   "outputs": [
    {
     "data": {
      "text/plain": [
       "[('s1', ['2016-01-02', '2016-01-03']), ('s2', ['2016-01-03'])]"
      ]
     },
     "execution_count": 7,
     "metadata": {},
     "output_type": "execute_result"
    }
   ],
   "source": [
    "Final_RDD_1 = Grouped_Sensors_RDD.mapValues(lambda listValues : list(listValues))\n",
    "Final_RDD_1.collect()"
   ]
  },
  {
   "cell_type": "code",
   "execution_count": 11,
   "id": "injured-military",
   "metadata": {},
   "outputs": [
    {
     "data": {
      "text/plain": [
       "['s1', 's2', 's1', 's2', 's1', 's2', 's3']"
      ]
     },
     "execution_count": 11,
     "metadata": {},
     "output_type": "execute_result"
    }
   ],
   "source": [
    "AllSensors_RDD = SensorsRDD.map(lambda line : line.split(',')[0])\n",
    "# AllSensors_RDD.collect()"
   ]
  },
  {
   "cell_type": "code",
   "execution_count": 12,
   "id": "generous-little",
   "metadata": {},
   "outputs": [
    {
     "data": {
      "text/plain": [
       "['s3']"
      ]
     },
     "execution_count": 12,
     "metadata": {},
     "output_type": "execute_result"
    }
   ],
   "source": [
    "NoHighSensors_RDD = AllSensors_RDD.subtract(Final_RDD_1.keys())\n",
    "# NoHighSensors_RDD.collect()"
   ]
  },
  {
   "cell_type": "code",
   "execution_count": 13,
   "id": "suitable-drunk",
   "metadata": {},
   "outputs": [
    {
     "data": {
      "text/plain": [
       "[('s3', [])]"
      ]
     },
     "execution_count": 13,
     "metadata": {},
     "output_type": "execute_result"
    }
   ],
   "source": [
    "Final_RDD_2 = NoHighSensors_RDD.map(lambda sensorId : (sensorId,[]))\n",
    "# Final_RDD_2.collect()"
   ]
  },
  {
   "cell_type": "code",
   "execution_count": 14,
   "id": "improving-shopper",
   "metadata": {},
   "outputs": [
    {
     "data": {
      "text/plain": [
       "[('s1', ['2016-01-02', '2016-01-03']), ('s2', ['2016-01-03']), ('s3', [])]"
      ]
     },
     "execution_count": 14,
     "metadata": {},
     "output_type": "execute_result"
    }
   ],
   "source": [
    "Final_RDD = Final_RDD_1.union(Final_RDD_2)\n",
    "# Final_RDD.collect()"
   ]
  },
  {
   "cell_type": "code",
   "execution_count": 15,
   "id": "hybrid-medium",
   "metadata": {},
   "outputs": [],
   "source": [
    "Final_RDD.saveAsTextFile(outputPath)"
   ]
  }
 ],
 "metadata": {
  "kernelspec": {
   "display_name": "PySpark (Local)",
   "language": "python",
   "name": "pyspark_local"
  },
  "language_info": {
   "codemirror_mode": {
    "name": "ipython",
    "version": 3
   },
   "file_extension": ".py",
   "mimetype": "text/x-python",
   "name": "python",
   "nbconvert_exporter": "python",
   "pygments_lexer": "ipython3",
   "version": "3.7.9"
  }
 },
 "nbformat": 4,
 "nbformat_minor": 5
}
